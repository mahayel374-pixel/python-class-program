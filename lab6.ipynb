{
  "nbformat": 4,
  "nbformat_minor": 0,
  "metadata": {
    "colab": {
      "provenance": [],
      "authorship_tag": "ABX9TyO278Rt96jUo2JAMcLeuY4a",
      "include_colab_link": true
    },
    "kernelspec": {
      "name": "python3",
      "display_name": "Python 3"
    },
    "language_info": {
      "name": "python"
    }
  },
  "cells": [
    {
      "cell_type": "markdown",
      "metadata": {
        "id": "view-in-github",
        "colab_type": "text"
      },
      "source": [
        "<a href=\"https://colab.research.google.com/github/mahayel374-pixel/python-class-program/blob/main/lab6.ipynb\" target=\"_parent\"><img src=\"https://colab.research.google.com/assets/colab-badge.svg\" alt=\"Open In Colab\"/></a>"
      ]
    },
    {
      "cell_type": "code",
      "execution_count": null,
      "metadata": {
        "id": "RTGC6ZYnuSps"
      },
      "outputs": [],
      "source": [
        "s = \"hello world\"\n",
        "t = \"Hello\"\n",
        "u = \"python is fun\"\n"
      ]
    },
    {
      "cell_type": "code",
      "source": [
        "s = \"hello world\"\n",
        "t = \"HELLO\"\n",
        "u = \"python is fun\"\n",
        "print(u.find(\"is\"))\n",
        "print(u.rfind(\"n\"))\n",
        "print(u.index(\"fun\"))\n",
        "print(u.rindex(\"n\"))\n",
        "print(u.count(\"o\"))\n",
        "print(u.startswith(\"py\"))\n",
        "print(u.endswith(\"fun\"))"
      ],
      "metadata": {
        "colab": {
          "base_uri": "https://localhost:8080/"
        },
        "id": "fT8RcfiJu4M_",
        "outputId": "38b04652-ec23-4f02-bebe-6c489605c7ab"
      },
      "execution_count": null,
      "outputs": [
        {
          "output_type": "stream",
          "name": "stdout",
          "text": [
            "7\n",
            "12\n",
            "10\n",
            "12\n",
            "1\n",
            "True\n",
            "True\n"
          ]
        }
      ]
    },
    {
      "cell_type": "code",
      "source": [
        "s = \"hello world\"\n",
        "t = \"Hello\"\n",
        "u = \"python is fun\"\n",
        "print(s.strip())\n",
        "print(s.lstrip())\n",
        "print(s.rstrip())\n",
        "print(\"a\\tb\".expandtabs())\n",
        "print(\"42\".zfill(5))\n",
        "print(u.center(20,\"!\"))\n",
        "print(u.ljust(20,\"^\"))\n",
        "print(u.rjust(20,\"^\"))\n",
        "print(u.replace(\"fun\",\"awesome\"))"
      ],
      "metadata": {
        "colab": {
          "base_uri": "https://localhost:8080/"
        },
        "id": "O9mnLrAixKjR",
        "outputId": "20745119-078e-4bc1-85d5-f8b77db2292b"
      },
      "execution_count": null,
      "outputs": [
        {
          "output_type": "stream",
          "name": "stdout",
          "text": [
            "hello world\n",
            "hello world\n",
            "hello world\n",
            "a       b\n",
            "00042\n",
            "!!!python is fun!!!!\n",
            "python is fun^^^^^^^\n",
            "^^^^^^^python is fun\n",
            "python is awesome\n"
          ]
        }
      ]
    },
    {
      "cell_type": "code",
      "source": [
        "u = \"python is fun\"\n",
        "print(u.split())\n",
        "print(u.rsplit(\" \",2))\n",
        "print(\"one\\ntwo\".splitlines)\n",
        "print(u.partition(\"is\"))\n",
        "print(u.rpartition(\"is\"))\n",
        "print(\"-\".join([\"2025\",\"08\",\"12\"]))"
      ],
      "metadata": {
        "colab": {
          "base_uri": "https://localhost:8080/"
        },
        "id": "7VZZVAqqzQAH",
        "outputId": "13e0ef71-00ce-4bf0-baa0-21a9f4f4a3a4"
      },
      "execution_count": null,
      "outputs": [
        {
          "output_type": "stream",
          "name": "stdout",
          "text": [
            "['python', 'is', 'fun']\n",
            "['python', 'is', 'fun']\n",
            "<built-in method splitlines of str object at 0x7844392d13b0>\n",
            "('python ', 'is', ' fun')\n",
            "('python ', 'is', ' fun')\n",
            "2025-08-12\n"
          ]
        }
      ]
    },
    {
      "cell_type": "code",
      "source": [
        "print(\"hello\".encode())\n",
        "print(\"My name is {}\".format(\"Ishu\"))\n",
        "print(\"Nmae: {name}\".format_map({\"name\":\"Ishu\"}))\n",
        "table = str.maketrans(\"aeiou\",\"12345\")\n",
        "print(\"hello\".translate(table))\n",
        "print(\"india\".translate(table))"
      ],
      "metadata": {
        "colab": {
          "base_uri": "https://localhost:8080/"
        },
        "id": "aEK0v6FTzUAk",
        "outputId": "4f30ca22-3e42-481c-a7eb-e9243edd790f"
      },
      "execution_count": null,
      "outputs": [
        {
          "output_type": "stream",
          "name": "stdout",
          "text": [
            "b'hello'\n",
            "My name is Ishu\n",
            "Nmae: Ishu\n",
            "h2ll4\n",
            "3nd31\n"
          ]
        }
      ]
    },
    {
      "cell_type": "code",
      "source": [
        "a = list()\n",
        "b = list(\"amhi\")\n",
        "c = list((2,3,4))\n",
        "d =list(range(5))\n",
        "e = list({10,20,30})\n",
        "print(a)\n",
        "print(b)\n",
        "print(c)\n",
        "print(d)\n",
        "print(e)"
      ],
      "metadata": {
        "colab": {
          "base_uri": "https://localhost:8080/"
        },
        "id": "qPfxBW1V5rGN",
        "outputId": "3204e7ec-86cf-4cbc-d624-102725eaf16a"
      },
      "execution_count": null,
      "outputs": [
        {
          "output_type": "stream",
          "name": "stdout",
          "text": [
            "[]\n",
            "['a', 'm', 'h', 'i']\n",
            "[2, 3, 4]\n",
            "[0, 1, 2, 3, 4]\n",
            "[10, 20, 30]\n"
          ]
        }
      ]
    },
    {
      "cell_type": "code",
      "source": [
        "mylist = ['banana','apple','mange','tomato','berry']\n",
        "print(mylist[0])\n",
        "print(mylist[3:5])\n",
        "print(mylist[-4:-2])\n",
        "print(mylist[-1])\n",
        "print(mylist[-3])"
      ],
      "metadata": {
        "colab": {
          "base_uri": "https://localhost:8080/"
        },
        "id": "HD1RDO9Y6pT5",
        "outputId": "7837783c-2e3d-4205-b014-91305dbdf5b3"
      },
      "execution_count": null,
      "outputs": [
        {
          "output_type": "stream",
          "name": "stdout",
          "text": [
            "banana\n",
            "['tomato', 'berry']\n",
            "['apple', 'mange']\n",
            "berry\n",
            "mange\n"
          ]
        }
      ]
    },
    {
      "cell_type": "code",
      "source": [
        "num = [1,2,3,4,5]\n",
        "lang = ['python','c','java','php']\n",
        "print(num +lang)\n",
        "print(num * 2)\n",
        "print(lang[2])\n",
        "print(lang[1:4])\n",
        "print('cpp' in lang)\n",
        "print(6 not in num)"
      ],
      "metadata": {
        "colab": {
          "base_uri": "https://localhost:8080/"
        },
        "id": "2Gt80mmV85r5",
        "outputId": "331f093a-6c55-4d59-a4c2-370cc301ad37"
      },
      "execution_count": null,
      "outputs": [
        {
          "output_type": "stream",
          "name": "stdout",
          "text": [
            "[1, 2, 3, 4, 5, 'python', 'c', 'java', 'php']\n",
            "[1, 2, 3, 4, 5, 1, 2, 3, 4, 5]\n",
            "java\n",
            "['c', 'java', 'php']\n",
            "False\n",
            "True\n"
          ]
        }
      ]
    },
    {
      "cell_type": "code",
      "source": [
        "num = [1,2,3,4]\n",
        "print(num)\n",
        "num [2]= 30\n",
        "print(num)\n",
        "num [1:3] = [25,36]\n",
        "print(num)\n",
        "num[3] = \"python\"\n",
        "print(num)"
      ],
      "metadata": {
        "colab": {
          "base_uri": "https://localhost:8080/"
        },
        "id": "evCtXR8K-USj",
        "outputId": "e3cc3645-a56c-4f6d-93da-9bfd263a9e7f"
      },
      "execution_count": null,
      "outputs": [
        {
          "output_type": "stream",
          "name": "stdout",
          "text": [
            "[1, 2, 3, 4]\n",
            "[1, 2, 30, 4]\n",
            "[1, 25, 36, 4]\n",
            "[1, 25, 36, 'python']\n"
          ]
        }
      ]
    },
    {
      "cell_type": "code",
      "source": [
        "list1 = [1,2,3,4,5,6]\n",
        "print(\"sum of list items :\",sum(list1))"
      ],
      "metadata": {
        "colab": {
          "base_uri": "https://localhost:8080/"
        },
        "id": "KyDsz7-0FY5s",
        "outputId": "6cf5a560-cf17-42fb-a9bb-3c32198e0d44"
      },
      "execution_count": null,
      "outputs": [
        {
          "output_type": "stream",
          "name": "stdout",
          "text": [
            "sum of list items : 21\n"
          ]
        }
      ]
    },
    {
      "cell_type": "code",
      "source": [
        "num = [7,34,7,3,9,54,7,1]\n",
        "lang = ['java','c','python','cpp']\n",
        "print(sorted(num))\n",
        "print(sorted(lang))"
      ],
      "metadata": {
        "colab": {
          "base_uri": "https://localhost:8080/"
        },
        "id": "JCSkHBT3GVU3",
        "outputId": "0ec89184-22fe-4cf0-e6cb-a878d4d317f9"
      },
      "execution_count": null,
      "outputs": [
        {
          "output_type": "stream",
          "name": "stdout",
          "text": [
            "[1, 3, 7, 7, 7, 9, 34, 54]\n",
            "['c', 'cpp', 'java', 'python']\n"
          ]
        }
      ]
    },
    {
      "cell_type": "code",
      "source": [
        "num = [1,2,3,4,5]\n",
        "lang = ['python','java']\n",
        "num.append(6)\n",
        "print(num)\n",
        "lang.append(\"cpp\")\n",
        "print(lang)"
      ],
      "metadata": {
        "colab": {
          "base_uri": "https://localhost:8080/"
        },
        "id": "-rz3MkqbHDyU",
        "outputId": "4f7859df-4543-43fc-8479-355f4ede0e10"
      },
      "execution_count": null,
      "outputs": [
        {
          "output_type": "stream",
          "name": "stdout",
          "text": [
            "[1, 2, 3, 4, 5, 6]\n",
            "['python', 'java', 'cpp']\n"
          ]
        }
      ]
    },
    {
      "cell_type": "code",
      "source": [
        "list1 =[1,2,3,4,5]\n",
        "list2 = ['A','B','C','D']\n",
        "list1.remove(2)\n",
        "print(list1)\n",
        "list2.remove('B')\n",
        "print(list2)"
      ],
      "metadata": {
        "colab": {
          "base_uri": "https://localhost:8080/"
        },
        "id": "aCJ23_4vIhq3",
        "outputId": "902e4dd6-010f-4564-a8c7-081eef97aca1"
      },
      "execution_count": null,
      "outputs": [
        {
          "output_type": "stream",
          "name": "stdout",
          "text": [
            "[1, 3, 4, 5]\n",
            "['A', 'C', 'D']\n"
          ]
        }
      ]
    },
    {
      "cell_type": "code",
      "source": [
        "list1=[23,6,2,8,4,0,2]\n",
        "list1.sort()\n",
        "print(\"After Sorting: \")\n",
        "print(list1)\n",
        "print(\"Descebding Order:\")\n",
        "list1.sort(reverse=True)\n",
        "print(list1)"
      ],
      "metadata": {
        "colab": {
          "base_uri": "https://localhost:8080/"
        },
        "id": "FbdqiN-CIwiS",
        "outputId": "eae1021e-f02a-4377-a4f2-2cf002ccea54"
      },
      "execution_count": null,
      "outputs": [
        {
          "output_type": "stream",
          "name": "stdout",
          "text": [
            "After Sorting: \n",
            "[0, 2, 2, 4, 6, 8, 23]\n",
            "Descebding Order:\n",
            "[23, 8, 6, 4, 2, 2, 0]\n"
          ]
        }
      ]
    },
    {
      "cell_type": "code",
      "source": [
        "list1 = [4,7,5,8,9,]\n",
        "list1.reverse()\n",
        "print(\"After reverse:\")\n",
        "print(list1)"
      ],
      "metadata": {
        "colab": {
          "base_uri": "https://localhost:8080/"
        },
        "id": "BI20rqLRJ3Wg",
        "outputId": "474db212-3f79-4597-9f63-4592572c0394"
      },
      "execution_count": null,
      "outputs": [
        {
          "output_type": "stream",
          "name": "stdout",
          "text": [
            "After reverse:\n",
            "[9, 8, 5, 7, 4]\n"
          ]
        }
      ]
    },
    {
      "cell_type": "code",
      "source": [
        "num = [1,2,3,4,4,6,2,7,8,1,2,3,5,6,4,7,8,9,0,3,4,5,6,5,8,3,5,7,9,0]\n",
        "cnt = num.count(2)\n",
        "print(\"count of 2 is:\",cnt)\n",
        "cnt = num.count(10)\n",
        "print(\"count of 10 is:\",cnt)"
      ],
      "metadata": {
        "colab": {
          "base_uri": "https://localhost:8080/"
        },
        "id": "icPmcAD7KJlY",
        "outputId": "523d60e1-1429-4f2b-a50b-b8fccfaf7a64"
      },
      "execution_count": null,
      "outputs": [
        {
          "output_type": "stream",
          "name": "stdout",
          "text": [
            "count of 2 is: 3\n",
            "count of 10 is: 0\n"
          ]
        }
      ]
    },
    {
      "cell_type": "code",
      "source": [
        "list1 = ['p','y','t','o','n','p']\n",
        "print(list1.index('t'))\n",
        "print(list1.index('p'))\n",
        "print(list1.index('p',3,10))\n",
        "print(list1.index('z'))"
      ],
      "metadata": {
        "colab": {
          "base_uri": "https://localhost:8080/",
          "height": 228
        },
        "id": "uvHsOgKWLYnW",
        "outputId": "50756d9d-7d11-4bec-ff28-322081ea6c31"
      },
      "execution_count": null,
      "outputs": [
        {
          "output_type": "stream",
          "name": "stdout",
          "text": [
            "2\n",
            "0\n",
            "5\n"
          ]
        },
        {
          "output_type": "error",
          "ename": "ValueError",
          "evalue": "'z' is not in list",
          "traceback": [
            "\u001b[0;31m---------------------------------------------------------------------------\u001b[0m",
            "\u001b[0;31mValueError\u001b[0m                                Traceback (most recent call last)",
            "\u001b[0;32m/tmp/ipython-input-1841394163.py\u001b[0m in \u001b[0;36m<cell line: 0>\u001b[0;34m()\u001b[0m\n\u001b[1;32m      3\u001b[0m \u001b[0mprint\u001b[0m\u001b[0;34m(\u001b[0m\u001b[0mlist1\u001b[0m\u001b[0;34m.\u001b[0m\u001b[0mindex\u001b[0m\u001b[0;34m(\u001b[0m\u001b[0;34m'p'\u001b[0m\u001b[0;34m)\u001b[0m\u001b[0;34m)\u001b[0m\u001b[0;34m\u001b[0m\u001b[0;34m\u001b[0m\u001b[0m\n\u001b[1;32m      4\u001b[0m \u001b[0mprint\u001b[0m\u001b[0;34m(\u001b[0m\u001b[0mlist1\u001b[0m\u001b[0;34m.\u001b[0m\u001b[0mindex\u001b[0m\u001b[0;34m(\u001b[0m\u001b[0;34m'p'\u001b[0m\u001b[0;34m,\u001b[0m\u001b[0;36m3\u001b[0m\u001b[0;34m,\u001b[0m\u001b[0;36m10\u001b[0m\u001b[0;34m)\u001b[0m\u001b[0;34m)\u001b[0m\u001b[0;34m\u001b[0m\u001b[0;34m\u001b[0m\u001b[0m\n\u001b[0;32m----> 5\u001b[0;31m \u001b[0mprint\u001b[0m\u001b[0;34m(\u001b[0m\u001b[0mlist1\u001b[0m\u001b[0;34m.\u001b[0m\u001b[0mindex\u001b[0m\u001b[0;34m(\u001b[0m\u001b[0;34m'z'\u001b[0m\u001b[0;34m)\u001b[0m\u001b[0;34m)\u001b[0m\u001b[0;34m\u001b[0m\u001b[0;34m\u001b[0m\u001b[0m\n\u001b[0m",
            "\u001b[0;31mValueError\u001b[0m: 'z' is not in list"
          ]
        }
      ]
    },
    {
      "cell_type": "code",
      "source": [
        "num = [10,20,30,40]\n",
        "num.insert(4,60)\n",
        "print(num)\n",
        "num.insert(7,70)\n",
        "print(num)"
      ],
      "metadata": {
        "colab": {
          "base_uri": "https://localhost:8080/"
        },
        "id": "nWhnHvx0MNfD",
        "outputId": "630996c7-6ec2-4682-b861-5bd09c63e18f"
      },
      "execution_count": null,
      "outputs": [
        {
          "output_type": "stream",
          "name": "stdout",
          "text": [
            "[10, 20, 30, 40, 60]\n",
            "[10, 20, 30, 40, 60, 70]\n"
          ]
        }
      ]
    },
    {
      "cell_type": "code",
      "source": [
        "num = [10,20,30,40]\n",
        "num.pop()\n",
        "print(num)\n",
        "num.pop(2)\n",
        "print(num)\n",
        "num.pop(7)\n",
        "print(num)"
      ],
      "metadata": {
        "colab": {
          "base_uri": "https://localhost:8080/",
          "height": 228
        },
        "id": "lW4byozXM9Dj",
        "outputId": "2069c2e2-4b78-4ddd-d38b-31144826c7d2"
      },
      "execution_count": null,
      "outputs": [
        {
          "output_type": "stream",
          "name": "stdout",
          "text": [
            "[10, 20, 30]\n",
            "[10, 20]\n"
          ]
        },
        {
          "output_type": "error",
          "ename": "IndexError",
          "evalue": "pop index out of range",
          "traceback": [
            "\u001b[0;31m---------------------------------------------------------------------------\u001b[0m",
            "\u001b[0;31mIndexError\u001b[0m                                Traceback (most recent call last)",
            "\u001b[0;32m/tmp/ipython-input-691255855.py\u001b[0m in \u001b[0;36m<cell line: 0>\u001b[0;34m()\u001b[0m\n\u001b[1;32m      4\u001b[0m \u001b[0mnum\u001b[0m\u001b[0;34m.\u001b[0m\u001b[0mpop\u001b[0m\u001b[0;34m(\u001b[0m\u001b[0;36m2\u001b[0m\u001b[0;34m)\u001b[0m\u001b[0;34m\u001b[0m\u001b[0;34m\u001b[0m\u001b[0m\n\u001b[1;32m      5\u001b[0m \u001b[0mprint\u001b[0m\u001b[0;34m(\u001b[0m\u001b[0mnum\u001b[0m\u001b[0;34m)\u001b[0m\u001b[0;34m\u001b[0m\u001b[0;34m\u001b[0m\u001b[0m\n\u001b[0;32m----> 6\u001b[0;31m \u001b[0mnum\u001b[0m\u001b[0;34m.\u001b[0m\u001b[0mpop\u001b[0m\u001b[0;34m(\u001b[0m\u001b[0;36m7\u001b[0m\u001b[0;34m)\u001b[0m\u001b[0;34m\u001b[0m\u001b[0;34m\u001b[0m\u001b[0m\n\u001b[0m\u001b[1;32m      7\u001b[0m \u001b[0mprint\u001b[0m\u001b[0;34m(\u001b[0m\u001b[0mnum\u001b[0m\u001b[0;34m)\u001b[0m\u001b[0;34m\u001b[0m\u001b[0;34m\u001b[0m\u001b[0m\n",
            "\u001b[0;31mIndexError\u001b[0m: pop index out of range"
          ]
        }
      ]
    },
    {
      "cell_type": "code",
      "source": [
        "num = [1,3,2,4,5,6]\n",
        "num.clear()\n",
        "print(num)"
      ],
      "metadata": {
        "id": "MgC_lIsUNtuS",
        "colab": {
          "base_uri": "https://localhost:8080/"
        },
        "outputId": "20a7eefd-5a8a-400b-bf35-475021cfe40a"
      },
      "execution_count": null,
      "outputs": [
        {
          "output_type": "stream",
          "name": "stdout",
          "text": [
            "[]\n"
          ]
        }
      ]
    },
    {
      "cell_type": "code",
      "source": [
        "x = [1,2,3,4]\n",
        "y = [5,6,7,8]\n",
        "x.extend(y)\n",
        "print(x)\n",
        "print(y)"
      ],
      "metadata": {
        "colab": {
          "base_uri": "https://localhost:8080/"
        },
        "id": "-6H-lNhkOUj-",
        "outputId": "161b363b-ee3d-4d44-80fe-c25ab67c47b7"
      },
      "execution_count": null,
      "outputs": [
        {
          "output_type": "stream",
          "name": "stdout",
          "text": [
            "[1, 2, 3, 4, 5, 6, 7, 8]\n",
            "[5, 6, 7, 8]\n"
          ]
        }
      ]
    },
    {
      "cell_type": "code",
      "source": [
        "x = [1,2,3]\n",
        "y = x.copy()\n",
        "print(\"x:\",x)\n",
        "print(\"y:\",y)"
      ],
      "metadata": {
        "colab": {
          "base_uri": "https://localhost:8080/"
        },
        "id": "0l_3isKpOzY9",
        "outputId": "09d3e524-30ef-468d-abce-7bf2fa34ef0a"
      },
      "execution_count": null,
      "outputs": [
        {
          "output_type": "stream",
          "name": "stdout",
          "text": [
            "x: [1, 2, 3]\n",
            "y: [1, 2, 3]\n"
          ]
        }
      ]
    }
  ]
}