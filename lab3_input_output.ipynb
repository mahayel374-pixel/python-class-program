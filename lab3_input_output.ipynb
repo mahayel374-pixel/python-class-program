{
  "nbformat": 4,
  "nbformat_minor": 0,
  "metadata": {
    "colab": {
      "provenance": [],
      "authorship_tag": "ABX9TyMf2H4dT4wPk7hgh5Ccp5AP",
      "include_colab_link": true
    },
    "kernelspec": {
      "name": "python3",
      "display_name": "Python 3"
    },
    "language_info": {
      "name": "python"
    }
  },
  "cells": [
    {
      "cell_type": "markdown",
      "metadata": {
        "id": "view-in-github",
        "colab_type": "text"
      },
      "source": [
        "<a href=\"https://colab.research.google.com/github/mahayel374-pixel/python-class-program/blob/main/lab3_input_output.ipynb\" target=\"_parent\"><img src=\"https://colab.research.google.com/assets/colab-badge.svg\" alt=\"Open In Colab\"/></a>"
      ]
    },
    {
      "cell_type": "code",
      "execution_count": null,
      "metadata": {
        "colab": {
          "base_uri": "https://localhost:8080/"
        },
        "id": "SPWbHX-YbDz8",
        "outputId": "573c8e4d-db4f-4c6b-bfa7-6e438bab5677"
      },
      "outputs": [
        {
          "output_type": "stream",
          "name": "stdout",
          "text": [
            "b is greater than a\n"
          ]
        }
      ],
      "source": [
        "a=33\n",
        "b=200\n",
        "if b>a:\n",
        "  print(\"b is greater than a\")"
      ]
    },
    {
      "cell_type": "code",
      "source": [
        "a=10\n",
        "b=20\n",
        "if(a<b):print(\"b is greater than a\")"
      ],
      "metadata": {
        "colab": {
          "base_uri": "https://localhost:8080/"
        },
        "id": "YqaYiQ1ugXAP",
        "outputId": "645750ac-ff77-4df0-8c60-fa2dcbcf4c43"
      },
      "execution_count": null,
      "outputs": [
        {
          "output_type": "stream",
          "name": "stdout",
          "text": [
            "b is greater than a\n"
          ]
        }
      ]
    },
    {
      "cell_type": "code",
      "source": [
        "a=200\n",
        "b=33\n",
        "c=500\n",
        "if(a>b and c>a):\n",
        "  print(\"At least one of the conditions is True\")"
      ],
      "metadata": {
        "colab": {
          "base_uri": "https://localhost:8080/"
        },
        "id": "Ob5ZU0GcgkLO",
        "outputId": "081ee26f-cd2d-44a7-809f-db5aa359439a"
      },
      "execution_count": null,
      "outputs": [
        {
          "output_type": "stream",
          "name": "stdout",
          "text": [
            "At least one of the conditions is True\n"
          ]
        }
      ]
    },
    {
      "cell_type": "code",
      "source": [
        "a=200\n",
        "b=33\n",
        "c=500\n",
        "if(a>b or a>c):\n",
        "  print(\"At least one of the condition is True\")"
      ],
      "metadata": {
        "colab": {
          "base_uri": "https://localhost:8080/"
        },
        "id": "Ej_xHDUhg3Le",
        "outputId": "b4fe25a6-f91f-4152-9621-c42a0f9e50d0"
      },
      "execution_count": null,
      "outputs": [
        {
          "output_type": "stream",
          "name": "stdout",
          "text": [
            "At least one of the condition is True\n"
          ]
        }
      ]
    },
    {
      "cell_type": "code",
      "source": [
        "a=200\n",
        "b=33\n",
        "if b>a:\n",
        "  print(\"bis greater than a\")\n",
        "else:\n",
        "  print(\"a is greater than b\")"
      ],
      "metadata": {
        "colab": {
          "base_uri": "https://localhost:8080/"
        },
        "id": "evFgCIEChbou",
        "outputId": "f9f7c08d-b1a6-4044-989e-9bbf54a68563"
      },
      "execution_count": null,
      "outputs": [
        {
          "output_type": "stream",
          "name": "stdout",
          "text": [
            "a is greater than b\n"
          ]
        }
      ]
    },
    {
      "cell_type": "code",
      "source": [
        "n = int(input(\"enter the  number:\\t\"))\n",
        "if(n%2==0):\n",
        "  print(\"the number is a even number\",n)\n",
        "else:\n",
        "  print(\"The numberis a odd number\",n)"
      ],
      "metadata": {
        "colab": {
          "base_uri": "https://localhost:8080/"
        },
        "id": "5RwoBcy2hqEd",
        "outputId": "11bbfc78-bb3a-4319-c8ee-270472371dee"
      },
      "execution_count": null,
      "outputs": [
        {
          "output_type": "stream",
          "name": "stdout",
          "text": [
            "enter the  number:\t4\n",
            "the number is a even number 4\n"
          ]
        }
      ]
    },
    {
      "cell_type": "code",
      "source": [
        "x=int(input())\n",
        "if x>10:\n",
        "  print(\"Above ten,\")\n",
        "  if x>20:\n",
        "    print(\"and also above 20!\")\n",
        "else:\n",
        "  print(\"but not above20.\")"
      ],
      "metadata": {
        "colab": {
          "base_uri": "https://localhost:8080/"
        },
        "id": "l0WigrJCi3gU",
        "outputId": "c26495ca-8586-4596-9b6f-dcb53dfdb221"
      },
      "execution_count": null,
      "outputs": [
        {
          "output_type": "stream",
          "name": "stdout",
          "text": [
            "19\n",
            "Above ten,\n"
          ]
        }
      ]
    },
    {
      "cell_type": "code",
      "source": [
        "num = -15\n",
        "if num >= 0:\n",
        "  if num == 0:\n",
        "    print(\"zero\")\n",
        "  else:\n",
        "    print(\"Positive number\")\n",
        "else:\n",
        "    print(\"Negative number\")"
      ],
      "metadata": {
        "colab": {
          "base_uri": "https://localhost:8080/"
        },
        "id": "ynZLcYNxkarL",
        "outputId": "d9119c0f-6424-4f24-91b9-cea64ad81b4d"
      },
      "execution_count": null,
      "outputs": [
        {
          "output_type": "stream",
          "name": "stdout",
          "text": [
            "Negative number\n"
          ]
        }
      ]
    },
    {
      "cell_type": "code",
      "source": [
        "a=33\n",
        "b=33\n",
        "if b>a:\n",
        "  print(\"b is greater than a\")\n",
        "elif b<a:\n",
        "  print(\"b is smaller than a\")\n",
        "elif a==b:\n",
        "  print(\"a and b are equal\")"
      ],
      "metadata": {
        "colab": {
          "base_uri": "https://localhost:8080/"
        },
        "id": "bpQ-5JdJmeh6",
        "outputId": "451ca63c-f12c-4606-8646-c112bfacabf7"
      },
      "execution_count": null,
      "outputs": [
        {
          "output_type": "stream",
          "name": "stdout",
          "text": [
            "a and b are equal\n"
          ]
        }
      ]
    },
    {
      "cell_type": "code",
      "source": [
        "num =  3.4\n",
        "if num > 0:\n",
        "  print(\"positive number\")\n",
        "elif num == 0:\n",
        "  print(\"Zero\")\n",
        "else:\n",
        "  print(\"Negative number\")"
      ],
      "metadata": {
        "colab": {
          "base_uri": "https://localhost:8080/"
        },
        "id": "et1h79_mnXpY",
        "outputId": "4d134f64-1276-44c5-ab60-34a1777861d2"
      },
      "execution_count": null,
      "outputs": [
        {
          "output_type": "stream",
          "name": "stdout",
          "text": [
            "positive number\n"
          ]
        }
      ]
    },
    {
      "cell_type": "code",
      "source": [
        "a = float(input())\n",
        "b = float(input())\n",
        "c = float(input())\n",
        "d = float2(input())\n",
        "total = a+b+c+d\n",
        "agg = total/4\n",
        "if agg>=75:\n",
        "  print(\"Distinction\")\n",
        "elif agg >= 60 and agg < 75:\n",
        "  print(\"first\")\n",
        "elif agg >= 50 and add < 60:\n",
        "  print(\"second\")\n",
        "elif agg>=40 and agg < 50:\n",
        "  print(\"third\")\n",
        "else:\n",
        "  print(\"fail\")"
      ],
      "metadata": {
        "colab": {
          "base_uri": "https://localhost:8080/"
        },
        "id": "jfKiqgLIoTFY",
        "outputId": "b01ad27e-2409-4bb0-baca-580377823abd"
      },
      "execution_count": null,
      "outputs": [
        {
          "output_type": "stream",
          "name": "stdout",
          "text": [
            "98\n",
            "0\n",
            "0\n",
            "3\n",
            "fail\n"
          ]
        }
      ]
    },
    {
      "cell_type": "code",
      "source": [
        "a = int(input())\n",
        "b = int(input())\n",
        "c = int(input())\n",
        "disc = b**2-4*a*c\n",
        "print(disc)\n",
        "if disc>0:\n",
        "  root_type = \"real\"\n",
        "  root1 = (-b+(disc**0.5))/(2*a)\n",
        "  root2 = (-b-(disc**0.5))/(2*a)\n",
        "  print(root1)\n",
        "  print(root2)\n",
        "if disc == 0:\n",
        "  root_type = \"equal\"\n",
        "  root1 = root2 = -b/(2*a)\n",
        "  print(root1,root2)\n",
        "if disc < 0:\n",
        "  root_type = \"imag\"\n",
        "  real = -b/(2*a)\n",
        "  img = (-d**0.5)/(2*a)\n",
        "  root1 = complex(real+img)\n",
        "  root2 = complex(real+img)\n",
        "  print(root1)\n",
        "  print(root2)"
      ],
      "metadata": {
        "colab": {
          "base_uri": "https://localhost:8080/"
        },
        "id": "INBmVLZsqm7n",
        "outputId": "118298cd-d69f-489a-8032-87702ea1d5d2"
      },
      "execution_count": null,
      "outputs": [
        {
          "output_type": "stream",
          "name": "stdout",
          "text": [
            "66\n",
            "88\n",
            "44\n",
            "-3872\n",
            "(-0.6797882636937036+0j)\n",
            "(-0.6797882636937036+0j)\n"
          ]
        }
      ]
    },
    {
      "cell_type": "code",
      "source": [
        "salary = int(input())\n",
        "gender = input()\n",
        "if gender == 'male':\n",
        "  bonus = 0.5*salary\n",
        "elif gender == 'female':\n",
        "  bonus = 0.1*salary\n",
        "if salary < 10000:\n",
        "  bonus = bonus+0.02*salary\n",
        "total = bonus+salary\n",
        "print(total,bonus)"
      ],
      "metadata": {
        "colab": {
          "base_uri": "https://localhost:8080/"
        },
        "id": "4Xw-hqgis35E",
        "outputId": "196bea3c-690b-47e1-b3b9-95a07e26f872"
      },
      "execution_count": null,
      "outputs": [
        {
          "output_type": "stream",
          "name": "stdout",
          "text": [
            "10000\n",
            "female\n",
            "11000.0 1000.0\n"
          ]
        }
      ]
    },
    {
      "cell_type": "code",
      "source": [
        "n = int(input())\n",
        "i=1\n",
        "while i<n:\n",
        "  print(i)\n",
        "  i= i+1"
      ],
      "metadata": {
        "colab": {
          "base_uri": "https://localhost:8080/"
        },
        "id": "u_VlKYaLxa9B",
        "outputId": "4714bb5a-ecef-4154-8b6c-7c78bd32afcd"
      },
      "execution_count": null,
      "outputs": [
        {
          "output_type": "stream",
          "name": "stdout",
          "text": [
            "3\n",
            "1\n",
            "2\n"
          ]
        }
      ]
    },
    {
      "cell_type": "code",
      "source": [
        "n = int(input())\n",
        "i = 10\n",
        "while i<n :\n",
        "  print(i)\n",
        "  i+=1\n",
        "else:\n",
        "  print(\"i is no longer less than\",n)"
      ],
      "metadata": {
        "colab": {
          "base_uri": "https://localhost:8080/"
        },
        "id": "9UfsCQ3DyI1w",
        "outputId": "b3fd25cf-b234-4b5d-9fb0-4732cbb59d33"
      },
      "execution_count": null,
      "outputs": [
        {
          "output_type": "stream",
          "name": "stdout",
          "text": [
            "0\n",
            "i is no longer less than 0\n"
          ]
        }
      ]
    },
    {
      "cell_type": "code",
      "source": [
        "i=1\n",
        "while i <= 3:\n",
        "  print(i,\"Outer loop is executed only once\")\n",
        "  j=4\n",
        "\n",
        "  while j <= 3:\n",
        "    print(\"Inner loop is executed until to completion \")\n",
        "    j+=1\n",
        "  i+=1"
      ],
      "metadata": {
        "colab": {
          "base_uri": "https://localhost:8080/"
        },
        "id": "h-6ZAfgDzxj3",
        "outputId": "644bbe17-5e73-4ca1-efe0-dde17db9afd8"
      },
      "execution_count": null,
      "outputs": [
        {
          "output_type": "stream",
          "name": "stdout",
          "text": [
            "1 Outer loop is executed only once\n",
            "2 Outer loop is executed only once\n",
            "3 Outer loop is executed only once\n"
          ]
        }
      ]
    },
    {
      "cell_type": "code",
      "source": [
        "n = int(input())\n",
        "i=1\n",
        "while i<=n:\n",
        "  j=1\n",
        "  while j<=10:\n",
        "    print(i*j,end=\" \")\n",
        "    j+=1\n",
        "  print()\n",
        "  i+=1"
      ],
      "metadata": {
        "colab": {
          "base_uri": "https://localhost:8080/"
        },
        "id": "QQkfhgG01qQU",
        "outputId": "4ac05d45-2e6e-48d0-c4c1-972028cf0fa0"
      },
      "execution_count": null,
      "outputs": [
        {
          "output_type": "stream",
          "name": "stdout",
          "text": [
            "7\n",
            "1 2 3 4 5 6 7 8 9 10 \n",
            "2 4 6 8 10 12 14 16 18 20 \n",
            "3 6 9 12 15 18 21 24 27 30 \n",
            "4 8 12 16 20 24 28 32 36 40 \n",
            "5 10 15 20 25 30 35 40 45 50 \n",
            "6 12 18 24 30 36 42 48 54 60 \n",
            "7 14 21 28 35 42 49 56 63 70 \n"
          ]
        }
      ]
    },
    {
      "cell_type": "code",
      "source": [
        "n = int(input())\n",
        "i = 1\n",
        "sum = 0\n",
        "while i<=10:\n",
        "  sum = sum + (1/i**2)\n",
        "  i = i + 1\n",
        "  print(sum)"
      ],
      "metadata": {
        "colab": {
          "base_uri": "https://localhost:8080/"
        },
        "id": "5HMidal23bUE",
        "outputId": "dfea7684-ba4b-458d-d90c-8e15db14de7a"
      },
      "execution_count": null,
      "outputs": [
        {
          "output_type": "stream",
          "name": "stdout",
          "text": [
            "4\n",
            "1.0\n",
            "1.25\n",
            "1.3611111111111112\n",
            "1.4236111111111112\n",
            "1.4636111111111112\n",
            "1.4913888888888889\n",
            "1.511797052154195\n",
            "1.527422052154195\n",
            "1.5397677311665408\n",
            "1.5497677311665408\n"
          ]
        }
      ]
    },
    {
      "cell_type": "code",
      "source": [
        "x = range(10)\n",
        "for n in x:\n",
        "  print(n)"
      ],
      "metadata": {
        "colab": {
          "base_uri": "https://localhost:8080/"
        },
        "id": "W5xmv-Ul59Lh",
        "outputId": "97d9337b-bd17-4b22-9ec1-a55f8d822c3a"
      },
      "execution_count": null,
      "outputs": [
        {
          "output_type": "stream",
          "name": "stdout",
          "text": [
            "0\n",
            "1\n",
            "2\n",
            "3\n",
            "4\n",
            "5\n",
            "6\n",
            "7\n",
            "8\n",
            "9\n"
          ]
        }
      ]
    },
    {
      "cell_type": "code",
      "source": [
        "for i in range(10):\n",
        "  print(i)"
      ],
      "metadata": {
        "colab": {
          "base_uri": "https://localhost:8080/"
        },
        "id": "9fpJbuK28OPQ",
        "outputId": "02e6fad9-09f1-41c9-d8bf-1a953b5382f1"
      },
      "execution_count": null,
      "outputs": [
        {
          "output_type": "stream",
          "name": "stdout",
          "text": [
            "0\n",
            "1\n",
            "2\n",
            "3\n",
            "4\n",
            "5\n",
            "6\n",
            "7\n",
            "8\n",
            "9\n"
          ]
        }
      ]
    },
    {
      "cell_type": "code",
      "source": [
        "n =  int(input())\n",
        "sum=0\n",
        "for i in range(1,n+1):\n",
        "  sum = sum + i**3\n",
        "print(sum)"
      ],
      "metadata": {
        "colab": {
          "base_uri": "https://localhost:8080/"
        },
        "id": "KTRm4PmX9KCn",
        "outputId": "3aeb16cb-f85d-46f2-cb54-2f637d127389"
      },
      "execution_count": null,
      "outputs": [
        {
          "output_type": "stream",
          "name": "stdout",
          "text": [
            "9\n",
            "2025\n"
          ]
        }
      ]
    }
  ]
}