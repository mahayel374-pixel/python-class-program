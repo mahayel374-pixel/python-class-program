{
  "nbformat": 4,
  "nbformat_minor": 0,
  "metadata": {
    "colab": {
      "provenance": [],
      "authorship_tag": "ABX9TyNnO7H2BsKzCEbLOYhDDvLm",
      "include_colab_link": true
    },
    "kernelspec": {
      "name": "python3",
      "display_name": "Python 3"
    },
    "language_info": {
      "name": "python"
    }
  },
  "cells": [
    {
      "cell_type": "markdown",
      "metadata": {
        "id": "view-in-github",
        "colab_type": "text"
      },
      "source": [
        "<a href=\"https://colab.research.google.com/github/mahayel374-pixel/python-class-program/blob/main/lab1_input_output.ipynb\" target=\"_parent\"><img src=\"https://colab.research.google.com/assets/colab-badge.svg\" alt=\"Open In Colab\"/></a>"
      ]
    },
    {
      "cell_type": "code",
      "execution_count": null,
      "metadata": {
        "colab": {
          "base_uri": "https://localhost:8080/"
        },
        "id": "mxs8QDcDjVty",
        "outputId": "622eacd7-b54b-4a17-ba6f-d0c36b425877"
      },
      "outputs": [
        {
          "output_type": "stream",
          "name": "stdout",
          "text": [
            "Enter the name:\tmaha\n",
            "Enter the gender:\tfemale\n",
            "Enter the number:\t6\n",
            "Enter the branch:\tcse\n",
            "Enter the section:\ts4\n",
            "My name is\tmaha\n",
            "I am\tfemale\n",
            "my roll number is 6\n",
            "I am\tcse\tbranch and \ts4\tSection\n"
          ]
        }
      ],
      "source": [
        "#Student detail\n",
        "name = (input(\"Enter the name:\\t\"))\n",
        "gender = (input(\"Enter the gender:\\t\"))\n",
        "roll_number =int(input(\"Enter the number:\\t\"))\n",
        "branch = (input(\"Enter the branch:\\t\"))\n",
        "section = (input(\"Enter the section:\\t\"))\n",
        "print(\"My name is\\t\" + name + \"\\nI am\\t\" + gender)\n",
        "print(f\"my roll number is {roll_number}\")\n",
        "print(\"I am\\t\" + branch + \"\\tbranch and \\t\"+ section + \"\\tSection\")"
      ]
    },
    {
      "cell_type": "code",
      "source": [
        "total_student = 45\n",
        "boys = 25\n",
        "percentage_of_A_grade = 80\n",
        "A_grade_boys = 16\n",
        "total_percentage = (80/100)*45\n",
        "A_grade_girls = total_percentage - A_grade_boys\n",
        "print(\"\\'A\\' grade girls are\",A_grade_girls)"
      ],
      "metadata": {
        "colab": {
          "base_uri": "https://localhost:8080/"
        },
        "id": "X8uvBPVvnagU",
        "outputId": "ea51b609-fb44-4453-971b-320bfbaa010e"
      },
      "execution_count": null,
      "outputs": [
        {
          "output_type": "stream",
          "name": "stdout",
          "text": [
            "'A' grade girls are 20.0\n"
          ]
        }
      ]
    },
    {
      "cell_type": "code",
      "source": [
        "x = int(input(\"Enter the days:\\t\"))\n",
        "y = int(input(\"Enter the days:\\t\"))\n",
        "z = int(input(\"Enter the days:\\t\"))\n",
        "Worked_Days = x*y*z/(x*y+y*z+x*z)\n",
        "print(\"The No.of days A,B,C working Days are\",(round(Worked_Days,2)))"
      ],
      "metadata": {
        "colab": {
          "base_uri": "https://localhost:8080/"
        },
        "id": "KFzDA31frm9n",
        "outputId": "e1b16259-0906-4a96-b024-94d1387063eb"
      },
      "execution_count": null,
      "outputs": [
        {
          "output_type": "stream",
          "name": "stdout",
          "text": [
            "Enter the days:\t7\n",
            "Enter the days:\t7\n",
            "Enter the days:\t7\n",
            "The No.of days A,B,C working Days are 2.33\n"
          ]
        }
      ]
    },
    {
      "cell_type": "code",
      "source": [
        "b = 4\n",
        "c = 8\n",
        "d = 2\n",
        "e = 4\n",
        "f = 2\n",
        "a1 = b + c / d + e * f\n",
        "a2 = (b + c) / d + e * f\n",
        "a3 = b + c / ((d + e) * f)\n",
        "print(a1)\n",
        "print(a2)\n",
        "print((round(a3,2)))"
      ],
      "metadata": {
        "colab": {
          "base_uri": "https://localhost:8080/"
        },
        "id": "3lstS3H7uQRf",
        "outputId": "0584ea27-6360-4223-8bdc-f57750d66511"
      },
      "execution_count": null,
      "outputs": [
        {
          "output_type": "stream",
          "name": "stdout",
          "text": [
            "16.0\n",
            "14.0\n",
            "4.67\n"
          ]
        }
      ]
    },
    {
      "cell_type": "code",
      "source": [
        "a =10\n",
        "b = 3\n",
        "x = a + b\n",
        "y = a - b\n",
        "z = a * b\n",
        "c = a / b\n",
        "d = a // b\n",
        "e = a % b\n",
        "g = a ** b\n",
        "print(x)\n",
        "print(y)\n",
        "print(z)\n",
        "print(c)\n",
        "print(d)\n",
        "print(e)\n",
        "print(g)"
      ],
      "metadata": {
        "colab": {
          "base_uri": "https://localhost:8080/"
        },
        "id": "B_3sqNACxaCS",
        "outputId": "0fc60d4c-51b4-497f-fd0f-74cb1f1bb03f"
      },
      "execution_count": null,
      "outputs": [
        {
          "output_type": "stream",
          "name": "stdout",
          "text": [
            "13\n",
            "7\n",
            "30\n",
            "3.3333333333333335\n",
            "3\n",
            "1\n",
            "1000\n"
          ]
        }
      ]
    },
    {
      "cell_type": "code",
      "source": [],
      "metadata": {
        "colab": {
          "base_uri": "https://localhost:8080/"
        },
        "id": "pnSdiNlRxmIi",
        "outputId": "012fb2f3-8cd7-4e62-9aac-008466ab7658"
      },
      "execution_count": null,
      "outputs": [
        {
          "output_type": "stream",
          "name": "stdout",
          "text": [
            "7\n"
          ]
        }
      ]
    },
    {
      "cell_type": "code",
      "source": [
        "a=5\n",
        "b=0\n",
        "print(a == b)\n",
        "print(a != b)\n",
        "print(a > b)\n",
        "print(a < b)\n",
        "print(a >= b)\n",
        "print(a <= b)\n"
      ],
      "metadata": {
        "colab": {
          "base_uri": "https://localhost:8080/"
        },
        "id": "z9Gnn8kyxrIj",
        "outputId": "ac6490c1-e98f-4da5-a72d-a1d826c4e835"
      },
      "execution_count": null,
      "outputs": [
        {
          "output_type": "stream",
          "name": "stdout",
          "text": [
            "False\n",
            "True\n",
            "True\n",
            "False\n",
            "True\n",
            "False\n"
          ]
        }
      ]
    },
    {
      "cell_type": "code",
      "source": [
        "a = True\n",
        "b = False\n",
        "print(a and b)\n",
        "print(a or b)\n",
        "print(not b)\n"
      ],
      "metadata": {
        "colab": {
          "base_uri": "https://localhost:8080/"
        },
        "id": "m33I_W1L0HH4",
        "outputId": "6cdcdf27-aa5c-4719-da53-26c1606dd042"
      },
      "execution_count": null,
      "outputs": [
        {
          "output_type": "stream",
          "name": "stdout",
          "text": [
            "False\n",
            "True\n",
            "True\n"
          ]
        }
      ]
    },
    {
      "cell_type": "code",
      "source": [],
      "metadata": {
        "id": "g666VNAQ0HAc"
      },
      "execution_count": null,
      "outputs": []
    }
  ]
}