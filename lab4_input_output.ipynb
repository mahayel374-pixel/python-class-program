{
  "nbformat": 4,
  "nbformat_minor": 0,
  "metadata": {
    "colab": {
      "provenance": [],
      "authorship_tag": "ABX9TyMNOupqLN2Fd37VMWyyRtLS",
      "include_colab_link": true
    },
    "kernelspec": {
      "name": "python3",
      "display_name": "Python 3"
    },
    "language_info": {
      "name": "python"
    }
  },
  "cells": [
    {
      "cell_type": "markdown",
      "metadata": {
        "id": "view-in-github",
        "colab_type": "text"
      },
      "source": [
        "<a href=\"https://colab.research.google.com/github/mahayel374-pixel/python-class-program/blob/main/lab4_input_output.ipynb\" target=\"_parent\"><img src=\"https://colab.research.google.com/assets/colab-badge.svg\" alt=\"Open In Colab\"/></a>"
      ]
    },
    {
      "cell_type": "code",
      "execution_count": null,
      "metadata": {
        "colab": {
          "base_uri": "https://localhost:8080/"
        },
        "id": "wBqyuW3ncphq",
        "outputId": "43d6c1c9-6fc0-472d-d18c-294919f13c17"
      },
      "outputs": [
        {
          "output_type": "stream",
          "name": "stdout",
          "text": [
            "apple\n",
            "banana\n",
            "cherry\n"
          ]
        }
      ],
      "source": [
        "fruits = [\"apple\",\"banana\",\"cherry\"]\n",
        "for x in fruits:\n",
        "  print(x)"
      ]
    },
    {
      "cell_type": "code",
      "source": [
        "for x in range(2,6):\n",
        "  print(x)\n"
      ],
      "metadata": {
        "colab": {
          "base_uri": "https://localhost:8080/"
        },
        "id": "7s36jyu9eeIm",
        "outputId": "5150645f-4376-40ec-c733-921694347d9d"
      },
      "execution_count": null,
      "outputs": [
        {
          "output_type": "stream",
          "name": "stdout",
          "text": [
            "2\n",
            "3\n",
            "4\n",
            "5\n"
          ]
        }
      ]
    },
    {
      "cell_type": "code",
      "source": [
        "for x in range(2,30,3):\n",
        "  print(x)"
      ],
      "metadata": {
        "colab": {
          "base_uri": "https://localhost:8080/"
        },
        "id": "F6Qt_BLBeutX",
        "outputId": "1e386ee1-fc8f-4ecd-bf98-254dd3d3125e"
      },
      "execution_count": null,
      "outputs": [
        {
          "output_type": "stream",
          "name": "stdout",
          "text": [
            "2\n",
            "5\n",
            "8\n",
            "11\n",
            "14\n",
            "17\n",
            "20\n",
            "23\n",
            "26\n",
            "29\n"
          ]
        }
      ]
    },
    {
      "cell_type": "code",
      "source": [
        "for x in range(6):\n",
        "  print(x)\n",
        "else:\n",
        "  print(\"finally finished\")"
      ],
      "metadata": {
        "colab": {
          "base_uri": "https://localhost:8080/"
        },
        "id": "pVFhDu5ue8q2",
        "outputId": "a0ece85e-47d9-4ff7-aadd-421977754c52"
      },
      "execution_count": null,
      "outputs": [
        {
          "output_type": "stream",
          "name": "stdout",
          "text": [
            "0\n",
            "1\n",
            "2\n",
            "3\n",
            "4\n",
            "5\n",
            "finally finished\n"
          ]
        }
      ]
    },
    {
      "cell_type": "code",
      "source": [
        "fruites = [\"apple\"]\n",
        "for x in fruites:\n",
        "  print(x)\n",
        "if x == \"banana\":\n",
        "  break\n"
      ],
      "metadata": {
        "colab": {
          "base_uri": "https://localhost:8080/",
          "height": 124
        },
        "id": "vUdcoCN9fvcv",
        "outputId": "f640513d-3cc4-41c1-b705-9f9df6436dd5"
      },
      "execution_count": null,
      "outputs": [
        {
          "output_type": "stream",
          "name": "stdout",
          "text": [
            "apple\n"
          ]
        },
        {
          "output_type": "error",
          "ename": "SyntaxError",
          "evalue": "'break' outside loop (ipython-input-15-4085851013.py, line 5)",
          "traceback": [
            "\u001b[0;36m  File \u001b[0;32m\"/tmp/ipython-input-15-4085851013.py\"\u001b[0;36m, line \u001b[0;32m5\u001b[0m\n\u001b[0;31m    break\u001b[0m\n\u001b[0m    ^\u001b[0m\n\u001b[0;31mSyntaxError\u001b[0m\u001b[0;31m:\u001b[0m 'break' outside loop\n"
          ]
        }
      ]
    },
    {
      "cell_type": "code",
      "source": [
        "for x in range(6):\n",
        "  if x==3:\n",
        "    break\n",
        "  print(x)\n",
        "else:\n",
        "  print(\"finally finished\")"
      ],
      "metadata": {
        "colab": {
          "base_uri": "https://localhost:8080/"
        },
        "id": "nGh9vCosgSaF",
        "outputId": "e9881327-7e9e-4c63-dd1c-ef34db0b41c4"
      },
      "execution_count": null,
      "outputs": [
        {
          "output_type": "stream",
          "name": "stdout",
          "text": [
            "0\n",
            "1\n",
            "2\n"
          ]
        }
      ]
    },
    {
      "cell_type": "code",
      "source": [
        "list1=[\"red\",\"blue\",\"green\"]\n",
        "list2=[\"apple\",\"banana\",\"cherry\"]\n",
        "for x in list1:\n",
        "  for y in list2:\n",
        "    print(x,y)\n",
        "    print(\"\\n\")"
      ],
      "metadata": {
        "colab": {
          "base_uri": "https://localhost:8080/"
        },
        "id": "RVZrWIZ8hL1N",
        "outputId": "2c14a809-ba3e-4542-b347-083578bbb21e"
      },
      "execution_count": null,
      "outputs": [
        {
          "output_type": "stream",
          "name": "stdout",
          "text": [
            "red apple\n",
            "\n",
            "\n",
            "red banana\n",
            "\n",
            "\n",
            "red cherry\n",
            "\n",
            "\n",
            "blue apple\n",
            "\n",
            "\n",
            "blue banana\n",
            "\n",
            "\n",
            "blue cherry\n",
            "\n",
            "\n",
            "green apple\n",
            "\n",
            "\n",
            "green banana\n",
            "\n",
            "\n",
            "green cherry\n",
            "\n",
            "\n"
          ]
        }
      ]
    },
    {
      "cell_type": "code",
      "source": [
        "i=1\n",
        "while i < 6:\n",
        "  print(i)\n",
        "  if i ==3:\n",
        "    break\n",
        "  i+=1"
      ],
      "metadata": {
        "colab": {
          "base_uri": "https://localhost:8080/"
        },
        "id": "UzbTl_upiRHM",
        "outputId": "e6b2a777-69b2-4c90-de2d-4b8513335597"
      },
      "execution_count": null,
      "outputs": [
        {
          "output_type": "stream",
          "name": "stdout",
          "text": [
            "1\n",
            "2\n",
            "3\n"
          ]
        }
      ]
    },
    {
      "cell_type": "code",
      "source": [
        "i=0\n",
        "while i < 6:\n",
        "  i += 1\n",
        "  if i == 3:\n",
        "    continue\n",
        "  print(i)"
      ],
      "metadata": {
        "colab": {
          "base_uri": "https://localhost:8080/"
        },
        "id": "DVS6YjSwkzWb",
        "outputId": "b1205131-2386-4374-e5d6-3e55b3cefb40"
      },
      "execution_count": null,
      "outputs": [
        {
          "output_type": "stream",
          "name": "stdout",
          "text": [
            "1\n",
            "2\n",
            "4\n",
            "5\n",
            "6\n"
          ]
        }
      ]
    },
    {
      "cell_type": "code",
      "source": [
        "for x in fruits:\n",
        "  if x == \"banana\":\n",
        "    continue\n",
        "  print(x)"
      ],
      "metadata": {
        "colab": {
          "base_uri": "https://localhost:8080/"
        },
        "id": "malKnvPdljPj",
        "outputId": "d0e7e8fb-c930-426e-b8e0-1edd9edb6aea"
      },
      "execution_count": null,
      "outputs": [
        {
          "output_type": "stream",
          "name": "stdout",
          "text": [
            "apple\n",
            "cherry\n"
          ]
        }
      ]
    },
    {
      "cell_type": "code",
      "source": [
        "for x in [0,1,2]:\n",
        "  pass"
      ],
      "metadata": {
        "id": "iqKiUNIzm5Gw"
      },
      "execution_count": null,
      "outputs": []
    },
    {
      "cell_type": "code",
      "source": [
        "n = int(input())\n",
        "sum=0\n",
        "for i in range(1,n+1):\n",
        "  sum = sum+(i**3)\n",
        "  print(sum)"
      ],
      "metadata": {
        "colab": {
          "base_uri": "https://localhost:8080/"
        },
        "id": "wfyIryQonYW-",
        "outputId": "97b477f5-5580-4fec-e230-6cd4e4bddd3c"
      },
      "execution_count": null,
      "outputs": [
        {
          "output_type": "stream",
          "name": "stdout",
          "text": [
            "10\n",
            "1\n",
            "9\n",
            "36\n",
            "100\n",
            "225\n",
            "441\n",
            "784\n",
            "1296\n",
            "2025\n",
            "3025\n"
          ]
        }
      ]
    },
    {
      "cell_type": "code",
      "source": [
        "n = int(input())\n",
        "for x in range(n,0,-1):\n",
        "  print(x)"
      ],
      "metadata": {
        "colab": {
          "base_uri": "https://localhost:8080/"
        },
        "id": "ScUzzJyhpMXW",
        "outputId": "154c1eac-adfe-4661-ee79-b453c3afa8b7"
      },
      "execution_count": null,
      "outputs": [
        {
          "output_type": "stream",
          "name": "stdout",
          "text": [
            "5\n",
            "5\n",
            "4\n",
            "3\n",
            "2\n",
            "1\n"
          ]
        }
      ]
    },
    {
      "cell_type": "code",
      "source": [
        "n = int(input())\n",
        "sum=0\n",
        "for x in range(2,n+1,2):\n",
        "  sum = sum+(x**2)\n",
        "  print(sum)"
      ],
      "metadata": {
        "colab": {
          "base_uri": "https://localhost:8080/"
        },
        "id": "0hF5wwlzqXB2",
        "outputId": "bee496b5-dc68-483b-a47a-052066e2dc2f"
      },
      "execution_count": null,
      "outputs": [
        {
          "output_type": "stream",
          "name": "stdout",
          "text": [
            "40\n",
            "4\n",
            "20\n",
            "56\n",
            "120\n",
            "220\n",
            "364\n",
            "560\n",
            "816\n",
            "1140\n",
            "1540\n",
            "2024\n",
            "2600\n",
            "3276\n",
            "4060\n",
            "4960\n",
            "5984\n",
            "7140\n",
            "8436\n",
            "9880\n",
            "11480\n"
          ]
        }
      ]
    },
    {
      "cell_type": "markdown",
      "source": [],
      "metadata": {
        "id": "7ufroetvtvkh"
      }
    },
    {
      "cell_type": "code",
      "source": [
        "for i in range(2000,2200):\n",
        "  if(i%4==0 and i%100!=0)or(i%400==0):\n",
        "    print(i)\n"
      ],
      "metadata": {
        "colab": {
          "base_uri": "https://localhost:8080/"
        },
        "id": "CaqFy37or8nf",
        "outputId": "d41c1c70-2e69-4afc-bb5e-649b1f65db49"
      },
      "execution_count": null,
      "outputs": [
        {
          "output_type": "stream",
          "name": "stdout",
          "text": [
            "2000\n",
            "2004\n",
            "2008\n",
            "2012\n",
            "2016\n",
            "2020\n",
            "2024\n",
            "2028\n",
            "2032\n",
            "2036\n",
            "2040\n",
            "2044\n",
            "2048\n",
            "2052\n",
            "2056\n",
            "2060\n",
            "2064\n",
            "2068\n",
            "2072\n",
            "2076\n",
            "2080\n",
            "2084\n",
            "2088\n",
            "2092\n",
            "2096\n",
            "2104\n",
            "2108\n",
            "2112\n",
            "2116\n",
            "2120\n",
            "2124\n",
            "2128\n",
            "2132\n",
            "2136\n",
            "2140\n",
            "2144\n",
            "2148\n",
            "2152\n",
            "2156\n",
            "2160\n",
            "2164\n",
            "2168\n",
            "2172\n",
            "2176\n",
            "2180\n",
            "2184\n",
            "2188\n",
            "2192\n",
            "2196\n"
          ]
        }
      ]
    },
    {
      "cell_type": "code",
      "source": [
        "num = 1\n",
        "for x in range(6):\n",
        "  for y in range(x):\n",
        "    print(num,end=\" \")\n",
        "    num=num+1\n",
        "  print(\"\\n\")"
      ],
      "metadata": {
        "colab": {
          "base_uri": "https://localhost:8080/"
        },
        "id": "AqOjq_U9tR9Z",
        "outputId": "89dfdc1f-c4f2-4b3f-98f7-2d5220faddb5"
      },
      "execution_count": null,
      "outputs": [
        {
          "output_type": "stream",
          "name": "stdout",
          "text": [
            "\n",
            "\n",
            "1 \n",
            "\n",
            "2 3 \n",
            "\n",
            "4 5 6 \n",
            "\n",
            "7 8 9 10 \n",
            "\n",
            "11 12 13 14 15 \n",
            "\n"
          ]
        }
      ]
    },
    {
      "cell_type": "code",
      "source": [
        "for i in range(1,6):\n",
        "  for j in range(i,0,-1):\n",
        "    print(j,end=\" \")\n",
        "  print()"
      ],
      "metadata": {
        "colab": {
          "base_uri": "https://localhost:8080/"
        },
        "id": "HIhd8miPuScV",
        "outputId": "4353699e-8def-4b82-eaae-84f717e8a7bc"
      },
      "execution_count": null,
      "outputs": [
        {
          "output_type": "stream",
          "name": "stdout",
          "text": [
            "1 \n",
            "2 1 \n",
            "3 2 1 \n",
            "4 3 2 1 \n",
            "5 4 3 2 1 \n"
          ]
        }
      ]
    },
    {
      "cell_type": "code",
      "source": [
        "for x in range(5,0,-1):\n",
        "  for y in range(x,0,-1):\n",
        "    print(y,end=\" \")\n",
        "  print()"
      ],
      "metadata": {
        "colab": {
          "base_uri": "https://localhost:8080/"
        },
        "id": "0Kn1ajHZvpU_",
        "outputId": "7d8f9295-e600-45f0-90f4-d9b5b0720844"
      },
      "execution_count": null,
      "outputs": [
        {
          "output_type": "stream",
          "name": "stdout",
          "text": [
            "5 4 3 2 1 \n",
            "4 3 2 1 \n",
            "3 2 1 \n",
            "2 1 \n",
            "1 \n"
          ]
        }
      ]
    },
    {
      "cell_type": "code",
      "source": [
        "n = int(input())\n",
        "for i in range(n):\n",
        "  for j in range(n-i-1):\n",
        "    print(\" \",end=\"\")\n",
        "  for k in range(i+1):\n",
        "    print(\"*\",end=\" \")\n",
        "  print()"
      ],
      "metadata": {
        "colab": {
          "base_uri": "https://localhost:8080/"
        },
        "id": "cORO8CP2wx9e",
        "outputId": "7891c03b-54d3-488a-8c34-c76933966e96"
      },
      "execution_count": null,
      "outputs": [
        {
          "output_type": "stream",
          "name": "stdout",
          "text": [
            "5\n",
            "    * \n",
            "   * * \n",
            "  * * * \n",
            " * * * * \n",
            "* * * * * \n"
          ]
        }
      ]
    },
    {
      "cell_type": "code",
      "source": [
        "for x in range(6):\n",
        "  for y in range(6-x-1):\n",
        "    print(\" \",end=\" \")\n",
        "  for z in range(x+1):\n",
        "    print(z+1,end=\" \")\n",
        "  print()"
      ],
      "metadata": {
        "colab": {
          "base_uri": "https://localhost:8080/"
        },
        "id": "APiDNMlW2IZ9",
        "outputId": "83bec20f-8b56-4d58-e98f-93dbed52ddd8"
      },
      "execution_count": null,
      "outputs": [
        {
          "output_type": "stream",
          "name": "stdout",
          "text": [
            "          1 \n",
            "        1 2 \n",
            "      1 2 3 \n",
            "    1 2 3 4 \n",
            "  1 2 3 4 5 \n",
            "1 2 3 4 5 6 \n"
          ]
        }
      ]
    },
    {
      "cell_type": "code",
      "source": [
        "s = \"Python\"\n",
        "print(s[0:2])\n",
        "print(s[2:])\n",
        "print(s[:4])\n",
        "print(s[::2])\n",
        "print(s[::-1])"
      ],
      "metadata": {
        "colab": {
          "base_uri": "https://localhost:8080/"
        },
        "id": "gz-EiJGJ2n8j",
        "outputId": "b6f559ec-7203-48f9-e07f-f259c329d581"
      },
      "execution_count": null,
      "outputs": [
        {
          "output_type": "stream",
          "name": "stdout",
          "text": [
            "Py\n",
            "thon\n",
            "Pyth\n",
            "Pto\n",
            "nohtyP\n"
          ]
        }
      ]
    },
    {
      "cell_type": "code",
      "source": [
        "str1 = \"Hello\"\n",
        "str2 = \"world\"\n",
        "print(str1*3)\n",
        "print(str1+str2)\n",
        "print(str1[4])\n",
        "print(str1[2:4])\n",
        "print('w'in str1)\n",
        "print('wo' not in str2)\n",
        "print(r'Hello\\n world')"
      ],
      "metadata": {
        "colab": {
          "base_uri": "https://localhost:8080/"
        },
        "id": "4h7hLED-29qW",
        "outputId": "df977f5c-d0fc-4ff9-c7de-9f3e5e04d7bf"
      },
      "execution_count": null,
      "outputs": [
        {
          "output_type": "stream",
          "name": "stdout",
          "text": [
            "HelloHelloHello\n",
            "Helloworld\n",
            "o\n",
            "ll\n",
            "False\n",
            "False\n",
            "Hello\\n world\n"
          ]
        }
      ]
    },
    {
      "cell_type": "code",
      "source": [
        "str = \"Java is object- oriented Java\"\n",
        "str1 = \"python language\"\n",
        "str2 = \"pyTHOn\"\n",
        "str3 = str.replace(\"Java\",\"python\")\n",
        "print(\"old String:\\t\",str)\n",
        "print(\"New String:\\t\",str3)\n",
        "print(str2.lower())\n",
        "print(str2.upper())\n",
        "print(len(str1))"
      ],
      "metadata": {
        "colab": {
          "base_uri": "https://localhost:8080/"
        },
        "id": "C9Ljty4p6B3t",
        "outputId": "7756c221-1666-44c5-d9bc-d87d74135034"
      },
      "execution_count": null,
      "outputs": [
        {
          "output_type": "stream",
          "name": "stdout",
          "text": [
            "old String:\t Java is object- oriented Java\n",
            "New String:\t python is object- oriented python\n",
            "python\n",
            "PYTHON\n",
            "15\n"
          ]
        }
      ]
    },
    {
      "cell_type": "code",
      "source": [
        "str1 = \"Python is a programming language\"\n",
        "str2 = str1.split()\n",
        "print(str1);print(str2)\n",
        "str1 = \"Python,is,a,programming,language\"\n",
        "str2 = str1.split(sep=',')\n",
        "print(str1);print(str2)"
      ],
      "metadata": {
        "colab": {
          "base_uri": "https://localhost:8080/"
        },
        "id": "YPmunS4b6XGB",
        "outputId": "414c6f6b-c002-4a8f-bb78-6b45007091c8"
      },
      "execution_count": null,
      "outputs": [
        {
          "output_type": "stream",
          "name": "stdout",
          "text": [
            "Python is a programming language\n",
            "['Python', 'is', 'a', 'programming', 'language']\n",
            "Python,is,a,programming,language\n",
            "['Python', 'is', 'a', 'programming', 'language']\n"
          ]
        }
      ]
    }
  ]
}