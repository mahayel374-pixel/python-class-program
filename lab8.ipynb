{
  "nbformat": 4,
  "nbformat_minor": 0,
  "metadata": {
    "colab": {
      "provenance": [],
      "authorship_tag": "ABX9TyMpYt2CwrqVTfOHxC8cug3c",
      "include_colab_link": true
    },
    "kernelspec": {
      "name": "python3",
      "display_name": "Python 3"
    },
    "language_info": {
      "name": "python"
    }
  },
  "cells": [
    {
      "cell_type": "markdown",
      "metadata": {
        "id": "view-in-github",
        "colab_type": "text"
      },
      "source": [
        "<a href=\"https://colab.research.google.com/github/mahayel374-pixel/python-class-program/blob/main/lab8.ipynb\" target=\"_parent\"><img src=\"https://colab.research.google.com/assets/colab-badge.svg\" alt=\"Open In Colab\"/></a>"
      ]
    },
    {
      "cell_type": "code",
      "execution_count": null,
      "metadata": {
        "colab": {
          "base_uri": "https://localhost:8080/"
        },
        "id": "gv1fNOYh15X9",
        "outputId": "04f49486-6188-458c-a59a-2564262683d0"
      },
      "outputs": [
        {
          "output_type": "stream",
          "name": "stdout",
          "text": [
            "('Mahalakshmi', 'P7', 18, 'CSE')\n"
          ]
        }
      ],
      "source": [
        "#tupledemo.py\n",
        "t1 = (\"Mahalakshmi\",\"P7\",18,\"CSE\")\n",
        "print(t1)"
      ]
    },
    {
      "cell_type": "code",
      "source": [
        "mytuple = ['Mahalakshmi','P7',18,'CSE','Vijayawada']\n",
        "print(mytuple[-1])\n",
        "print(mytuple[3])\n",
        "print(mytuple[4])\n",
        "print(mytuple[-2])"
      ],
      "metadata": {
        "colab": {
          "base_uri": "https://localhost:8080/"
        },
        "id": "4j6eNm5-4vbe",
        "outputId": "129e92d2-2c6b-4df0-d110-2f3abd198aa1"
      },
      "execution_count": null,
      "outputs": [
        {
          "output_type": "stream",
          "name": "stdout",
          "text": [
            "Vijayawada\n",
            "CSE\n",
            "Vijayawada\n",
            "CSE\n"
          ]
        }
      ]
    },
    {
      "cell_type": "code",
      "source": [
        "student = ('Mahalakshmi','P7',18,'CSE','poranki')\n",
        "student2 = ('sruthi','N8',18,'CSE','Vijayawada')\n",
        "print(student + student2)\n",
        "#print(student * student2)\n",
        "print(student[4])\n",
        "print(student2[3])\n",
        "print(student2[1:3])\n",
        "#student[4] = \"good\" #'tuple' object does not support item assignment\n",
        "#print(student)"
      ],
      "metadata": {
        "colab": {
          "base_uri": "https://localhost:8080/"
        },
        "id": "Cw_8w5bw5-UZ",
        "outputId": "d936587c-3c0f-443f-bf82-30631eb34f70"
      },
      "execution_count": null,
      "outputs": [
        {
          "output_type": "stream",
          "name": "stdout",
          "text": [
            "('Mahalakshmi', 'P7', 18, 'CSE', 'poranki', 'sruthi', 'N8', 18, 'CSE', 'Vijayawada')\n",
            "poranki\n",
            "CSE\n",
            "('N8', 18)\n"
          ]
        }
      ]
    },
    {
      "cell_type": "code",
      "source": [
        "stu = ('Mahalakshmi','P7',18,'CSE','poranki')\n",
        "print(stu)\n",
        "del stu\n",
        "#print(stu) #NameError: name 'stu' is not defined"
      ],
      "metadata": {
        "colab": {
          "base_uri": "https://localhost:8080/"
        },
        "id": "F6oKGBBW7lLZ",
        "outputId": "db0fdafc-c574-493a-afd8-a4c727453f1c"
      },
      "execution_count": null,
      "outputs": [
        {
          "output_type": "stream",
          "name": "stdout",
          "text": [
            "('Mahalakshmi', 'P7', 18, 'CSE', 'poranki')\n"
          ]
        }
      ]
    },
    {
      "cell_type": "code",
      "source": [
        "stu = ('Mahalakshmi','P7',18,'CSE','poranki')\n",
        "print(\"the tuple items are \\n\")\n",
        "for i in stu:\n",
        "  print (i)"
      ],
      "metadata": {
        "colab": {
          "base_uri": "https://localhost:8080/"
        },
        "id": "jXgw3kpb75j8",
        "outputId": "03918d85-a0d7-41a8-990e-19fae98df48f"
      },
      "execution_count": null,
      "outputs": [
        {
          "output_type": "stream",
          "name": "stdout",
          "text": [
            "the tuple items are \n",
            "\n",
            "Mahalakshmi\n",
            "P7\n",
            "18\n",
            "CSE\n",
            "poranki\n"
          ]
        }
      ]
    },
    {
      "cell_type": "code",
      "source": [
        "stu1 = ('Mahalakshmi','P7','good','CSE','poranki')\n",
        "stu2 = (90,80,60,100,80)\n",
        "print(max(stu1))\n",
        "print(min(stu1))\n",
        "print(max(stu2))\n",
        "print(min(stu2))"
      ],
      "metadata": {
        "colab": {
          "base_uri": "https://localhost:8080/"
        },
        "id": "_EEUnxMQ8p4N",
        "outputId": "e324c3b3-3f58-48d9-9062-bab0df10c398"
      },
      "execution_count": null,
      "outputs": [
        {
          "output_type": "stream",
          "name": "stdout",
          "text": [
            "poranki\n",
            "CSE\n",
            "100\n",
            "60\n"
          ]
        }
      ]
    },
    {
      "cell_type": "code",
      "source": [
        "stu = (90,80,60,100,80)\n",
        "print(sum(stu))"
      ],
      "metadata": {
        "colab": {
          "base_uri": "https://localhost:8080/"
        },
        "id": "jCpkfmKF9dc_",
        "outputId": "f84ca396-86d7-4023-fdb9-55f17650af44"
      },
      "execution_count": null,
      "outputs": [
        {
          "output_type": "stream",
          "name": "stdout",
          "text": [
            "410\n"
          ]
        }
      ]
    },
    {
      "cell_type": "code",
      "source": [
        "str = \"python\"\n",
        "t1 = tuple(str)\n",
        "print(t1)\n",
        "num = [1,2,3,4,5,6]\n",
        "t2 = tuple(num)\n",
        "print(t2)"
      ],
      "metadata": {
        "colab": {
          "base_uri": "https://localhost:8080/"
        },
        "id": "yZQjpl7Y-yAg",
        "outputId": "19eeb073-efe4-435e-f4f7-09d99d564f02"
      },
      "execution_count": null,
      "outputs": [
        {
          "output_type": "stream",
          "name": "stdout",
          "text": [
            "('p', 'y', 't', 'h', 'o', 'n')\n",
            "(1, 2, 3, 4, 5, 6)\n"
          ]
        }
      ]
    },
    {
      "cell_type": "code",
      "source": [
        "num = (1,2,3,4,5,6,1,2,3,4,5,6,7,8,9,0,1,2,4,6,3,6,8,9,3,6,2,7,4,7,5,3,1,2,5,6)\n",
        "cnt = num.count(2)\n",
        "print(cnt)\n",
        "cnt = num.count(6)\n",
        "print(cnt)"
      ],
      "metadata": {
        "colab": {
          "base_uri": "https://localhost:8080/"
        },
        "id": "wQ1pB0Lz_nWN",
        "outputId": "d04c65d2-4d5a-42c5-cfd7-605677754651"
      },
      "execution_count": null,
      "outputs": [
        {
          "output_type": "stream",
          "name": "stdout",
          "text": [
            "5\n",
            "6\n"
          ]
        }
      ]
    },
    {
      "cell_type": "code",
      "source": [
        "t1 = ('p', 'y', 't', 'h', 'o', 'p')\n",
        "print(t1.index('p'))\n",
        "print(t1.index('t'))\n",
        "print(t1.index('o'))\n",
        "print(t1.index('h'))\n",
        "print(t1.index('y'))\n",
        "print(t1.index('p',3,10))\n",
        "print(t1.index('p',2,10))\n",
        "#print(t1.index('x')) #ValueError: tuple.index(x): x not in tuple"
      ],
      "metadata": {
        "colab": {
          "base_uri": "https://localhost:8080/"
        },
        "id": "FpJITopqASJm",
        "outputId": "d627146b-6965-4e9f-f0a2-5946f62172be"
      },
      "execution_count": null,
      "outputs": [
        {
          "output_type": "stream",
          "name": "stdout",
          "text": [
            "0\n",
            "2\n",
            "4\n",
            "3\n",
            "1\n",
            "5\n",
            "5\n"
          ]
        }
      ]
    },
    {
      "cell_type": "code",
      "source": [
        "stu1 = ('Mahalakshmi','P7',18,'CSE','poranki')\n",
        "stu2 = ('sruthi','N8',18,'CSE','Vijayawada')\n",
        "print(stu1 + stu2)"
      ],
      "metadata": {
        "colab": {
          "base_uri": "https://localhost:8080/"
        },
        "id": "WeOwr11pBco6",
        "outputId": "7bee6f86-d86e-47ec-c737-53d23e3132b4"
      },
      "execution_count": null,
      "outputs": [
        {
          "output_type": "stream",
          "name": "stdout",
          "text": [
            "('Mahalakshmi', 'P7', 18, 'CSE', 'poranki', 'sruthi', 'N8', 18, 'CSE', 'Vijayawada')\n"
          ]
        }
      ]
    },
    {
      "cell_type": "code",
      "source": [
        "amer1 = \"Mahalakshmi\"\n",
        "Age1 = 18\n",
        "Rollnum1 = \"P7\"\n",
        "Branch1 = \"CSE\"\n",
        "Address1 = \"Poranki\"\n",
        "member1 = [Namer1,Age1,Rollnum1,Branch1,Address1]\n",
        "print(member1)\n",
        "name2 = \"Sruthi\"\n",
        "Age2 = 18\n",
        "Rollnum2 = \"N8\"\n",
        "Branch2 = \"CSE\"\n",
        "Address2 = \"Vijayawada\"\n",
        "member2 = [name2,Age2,Rollnum2,Branch2,Address2]\n",
        "print(member2)\n",
        "print(member1 + member2)"
      ],
      "metadata": {
        "colab": {
          "base_uri": "https://localhost:8080/"
        },
        "id": "kA2LJyTYB-UW",
        "outputId": "d634b420-e42f-42f2-d5a4-47105192fe70"
      },
      "execution_count": null,
      "outputs": [
        {
          "output_type": "stream",
          "name": "stdout",
          "text": [
            "['Mahalakshmi', 18, 'P7', 'CSE', 'Poranki']\n",
            "['Sruthi', 18, 'N8', 'CSE', 'Vijayawada']\n",
            "['Mahalakshmi', 18, 'P7', 'CSE', 'Poranki', 'Sruthi', 18, 'N8', 'CSE', 'Vijayawada']\n"
          ]
        }
      ]
    },
    {
      "cell_type": "code",
      "source": [
        "def count_vowels(string):\n",
        "  vowels = 'aeiouAEIOU'\n",
        "  return sum(string.count(vowel) for vowel in vowels)\n",
        "Name = \"Mahalakshmi\"\n",
        "print(\" No.of vowels\",Name.count('a'))\n",
        "print(\" No.of vowels\",Name.count('e'))\n",
        "print(\" No.of vowels\",Name.count('i'))\n",
        "print(\" No.of vowels\",Name.count('o'))\n",
        "print(\" No.of vowels\",Name.count('u'))\n",
        "print(\"No.of vowels\",count_vowels(Name))"
      ],
      "metadata": {
        "colab": {
          "base_uri": "https://localhost:8080/"
        },
        "id": "BHOxX8EWDveU",
        "outputId": "867fdbd1-2c15-44ef-d3cd-3ae43c9771f6"
      },
      "execution_count": null,
      "outputs": [
        {
          "output_type": "stream",
          "name": "stdout",
          "text": [
            " No.of vowels 3\n",
            " No.of vowels 0\n",
            " No.of vowels 1\n",
            " No.of vowels 0\n",
            " No.of vowels 0\n",
            "No.of vowels 4\n"
          ]
        }
      ]
    },
    {
      "cell_type": "code",
      "source": [
        "numberset = {1,2,3,4,3,2}\n",
        "print(numberset)\n",
        "emptyset = {}\n",
        "print(type(emptyset))\n",
        "emptyset = set()\n",
        "print(type(emptyset))"
      ],
      "metadata": {
        "colab": {
          "base_uri": "https://localhost:8080/"
        },
        "id": "FXUTbMADFJ_z",
        "outputId": "24c8597b-9fed-4c37-897d-9ea17c9c1bdf"
      },
      "execution_count": null,
      "outputs": [
        {
          "output_type": "stream",
          "name": "stdout",
          "text": [
            "{1, 2, 3, 4}\n",
            "<class 'dict'>\n",
            "<class 'set'>\n"
          ]
        }
      ]
    },
    {
      "cell_type": "code",
      "source": [
        "numberset = set([1,2,3,4,5,6])\n",
        "print(type(numberset))"
      ],
      "metadata": {
        "colab": {
          "base_uri": "https://localhost:8080/"
        },
        "id": "5_NNFqQqHmoU",
        "outputId": "4b147f63-9546-4a63-ab59-c4e025646fc4"
      },
      "execution_count": null,
      "outputs": [
        {
          "output_type": "stream",
          "name": "stdout",
          "text": [
            "<class 'set'>\n"
          ]
        }
      ]
    },
    {
      "cell_type": "code",
      "source": [
        "my_set = set()\n",
        "my_set.update([9,12])\n",
        "my_set.update([10,11])\n",
        "my_set.update(\"Mahalashmi\")\n",
        "print(my_set)\n",
        "my_set.add(4)\n",
        "print(my_set)\n",
        "my_set.update(\"INDIA\",\"BHARAT\")\n",
        "print(my_set)\n",
        "#my_set.update(6,5) #Name = \"Mahalakshmi\"\n",
        "my_set.discard(15)\n",
        "print(my_set)\n",
        "my_set.remove(6)\n",
        "print(my_set)"
      ],
      "metadata": {
        "colab": {
          "base_uri": "https://localhost:8080/",
          "height": 263
        },
        "id": "tbBWJ77dOWws",
        "outputId": "103a76a0-3e83-48f3-a28f-e9e6890b6971"
      },
      "execution_count": null,
      "outputs": [
        {
          "output_type": "stream",
          "name": "stdout",
          "text": [
            "{'a', 'h', 'l', 9, 10, 11, 12, 's', 'm', 'M', 'i'}\n",
            "{'a', 'h', 4, 'l', 9, 10, 11, 12, 's', 'm', 'M', 'i'}\n",
            "{'h', 4, 'B', 'l', 9, 10, 11, 12, 'I', 'A', 'T', 'D', 'i', 'a', 'N', 'm', 'M', 'R', 'H', 's'}\n",
            "{'h', 4, 'B', 'l', 9, 10, 11, 12, 'I', 'A', 'T', 'D', 'i', 'a', 'N', 'm', 'M', 'R', 'H', 's'}\n"
          ]
        },
        {
          "output_type": "error",
          "ename": "KeyError",
          "evalue": "6",
          "traceback": [
            "\u001b[0;31m---------------------------------------------------------------------------\u001b[0m",
            "\u001b[0;31mKeyError\u001b[0m                                  Traceback (most recent call last)",
            "\u001b[0;32m/tmp/ipython-input-1849063985.py\u001b[0m in \u001b[0;36m<cell line: 0>\u001b[0;34m()\u001b[0m\n\u001b[1;32m     11\u001b[0m \u001b[0mmy_set\u001b[0m\u001b[0;34m.\u001b[0m\u001b[0mdiscard\u001b[0m\u001b[0;34m(\u001b[0m\u001b[0;36m15\u001b[0m\u001b[0;34m)\u001b[0m\u001b[0;34m\u001b[0m\u001b[0;34m\u001b[0m\u001b[0m\n\u001b[1;32m     12\u001b[0m \u001b[0mprint\u001b[0m\u001b[0;34m(\u001b[0m\u001b[0mmy_set\u001b[0m\u001b[0;34m)\u001b[0m\u001b[0;34m\u001b[0m\u001b[0;34m\u001b[0m\u001b[0m\n\u001b[0;32m---> 13\u001b[0;31m \u001b[0mmy_set\u001b[0m\u001b[0;34m.\u001b[0m\u001b[0mremove\u001b[0m\u001b[0;34m(\u001b[0m\u001b[0;36m6\u001b[0m\u001b[0;34m)\u001b[0m\u001b[0;34m\u001b[0m\u001b[0;34m\u001b[0m\u001b[0m\n\u001b[0m\u001b[1;32m     14\u001b[0m \u001b[0mprint\u001b[0m\u001b[0;34m(\u001b[0m\u001b[0mmy_set\u001b[0m\u001b[0;34m)\u001b[0m\u001b[0;34m\u001b[0m\u001b[0;34m\u001b[0m\u001b[0m\n",
            "\u001b[0;31mKeyError\u001b[0m: 6"
          ]
        }
      ]
    },
    {
      "cell_type": "code",
      "source": [
        "my_set = set(\"apple\")\n",
        "print('a' not in my_set)\n",
        "print('p' not in my_set)"
      ],
      "metadata": {
        "colab": {
          "base_uri": "https://localhost:8080/"
        },
        "id": "Lf7JU7rgRLLJ",
        "outputId": "3fbfe7c6-0d16-43ce-970c-39a65c06dc08"
      },
      "execution_count": null,
      "outputs": [
        {
          "output_type": "stream",
          "name": "stdout",
          "text": [
            "False\n",
            "False\n"
          ]
        }
      ]
    },
    {
      "cell_type": "code",
      "source": [
        "A = {1,2,3,4,5}\n",
        "B = {4,5,6,7,8}\n",
        "print(A | B)\n",
        "print(A.union(B))\n",
        "print(B.union(A))\n",
        "print(A & B)\n",
        "print( A - B)\n",
        "print( A & B)"
      ],
      "metadata": {
        "colab": {
          "base_uri": "https://localhost:8080/"
        },
        "id": "wsrfn67JR8jD",
        "outputId": "cae2c891-9a90-4229-c7b3-61d229ec15d3"
      },
      "execution_count": null,
      "outputs": [
        {
          "output_type": "stream",
          "name": "stdout",
          "text": [
            "{1, 2, 3, 4, 5, 6, 7, 8}\n",
            "{1, 2, 3, 4, 5, 6, 7, 8}\n",
            "{1, 2, 3, 4, 5, 6, 7, 8}\n",
            "{4, 5}\n",
            "{1, 2, 3}\n",
            "{4, 5}\n"
          ]
        }
      ]
    },
    {
      "cell_type": "code",
      "source": [
        "stuList = {'maha','sruthi','chaitu','Anu'}\n",
        "placedStuList = [\"sruthi\",\"Anu\"]\n",
        "notplacedStuList = set(stuList) - set(placedStuList)\n",
        "print(\"Students yet to get job \\n\")\n",
        "print(notplacedStuList)"
      ],
      "metadata": {
        "colab": {
          "base_uri": "https://localhost:8080/"
        },
        "id": "kUxQh7ydSkEQ",
        "outputId": "b628c95f-3215-420a-f53a-1157e0efc1cb"
      },
      "execution_count": null,
      "outputs": [
        {
          "output_type": "stream",
          "name": "stdout",
          "text": [
            "Students yet to get job \n",
            "\n",
            "{'chaitu', 'maha'}\n"
          ]
        }
      ]
    },
    {
      "cell_type": "code",
      "source": [
        "WAY = [\"Ahkil\",\"Hemesh\",\"Hemanth\"]\n",
        "RCB = [\"Ahkil\",\"Hemesh\",\"Hemanth\",\"Mohit\",\"Akash\"]\n",
        "allrounders = set(WAY) & set(RCB)\n",
        "print(allrounders)"
      ],
      "metadata": {
        "colab": {
          "base_uri": "https://localhost:8080/"
        },
        "id": "huveVbKHTeHY",
        "outputId": "626ec378-6618-4fe8-81fa-82697c360dc3"
      },
      "execution_count": null,
      "outputs": [
        {
          "output_type": "stream",
          "name": "stdout",
          "text": [
            "{'Ahkil', 'Hemanth', 'Hemesh'}\n"
          ]
        }
      ]
    },
    {
      "cell_type": "code",
      "source": [
        "chocolate = [\"Maha\",\"chaitu\"]\n",
        "chicken = [\"Maha\",\"sruthi\",\"Anu\"]\n",
        "crab = [\"Maha\",\"sruthi\"]\n",
        "#choco_chicken = set(chocolate) & set(chicken)\n",
        "#print(choco_chicken)\n",
        "liked = set(chocolate) | set(chicken) | set(crab)\n",
        "print(liked)\n",
        "print(len(liked))"
      ],
      "metadata": {
        "colab": {
          "base_uri": "https://localhost:8080/"
        },
        "id": "4eBaGFXoUFc8",
        "outputId": "88c9ebe3-f53c-4af8-d1f6-c4ff6b6db838"
      },
      "execution_count": null,
      "outputs": [
        {
          "output_type": "stream",
          "name": "stdout",
          "text": [
            "{'chaitu', 'Maha', 'sruthi', 'Anu'}\n",
            "4\n"
          ]
        }
      ]
    },
    {
      "cell_type": "code",
      "source": [
        "s1 = set()\n",
        "s1.update([1,2,3,4,5])\n",
        "print(s1)\n",
        "s2 = {31,44,56,78}\n",
        "print(s1&s2)\n",
        "s1.update(s1-s2)\n",
        "print(s1)\n",
        "s1.clear()\n",
        "s2.clear()\n",
        "print(s1,s2)"
      ],
      "metadata": {
        "colab": {
          "base_uri": "https://localhost:8080/"
        },
        "id": "-4RULO8bVi-j",
        "outputId": "7e346c9d-eb35-43b8-aefb-1067b062a787"
      },
      "execution_count": null,
      "outputs": [
        {
          "output_type": "stream",
          "name": "stdout",
          "text": [
            "{1, 2, 3, 4, 5}\n",
            "set()\n",
            "{1, 2, 3, 4, 5}\n",
            "set() set()\n"
          ]
        }
      ]
    },
    {
      "cell_type": "code",
      "source": [],
      "metadata": {
        "id": "01zbBXqyYFgf"
      },
      "execution_count": null,
      "outputs": []
    }
  ]
}