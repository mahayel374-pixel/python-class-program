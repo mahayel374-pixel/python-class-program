{
  "nbformat": 4,
  "nbformat_minor": 0,
  "metadata": {
    "colab": {
      "provenance": [],
      "authorship_tag": "ABX9TyMNUk8vPg1xd9yUxKcAUCYL",
      "include_colab_link": true
    },
    "kernelspec": {
      "name": "python3",
      "display_name": "Python 3"
    },
    "language_info": {
      "name": "python"
    }
  },
  "cells": [
    {
      "cell_type": "markdown",
      "metadata": {
        "id": "view-in-github",
        "colab_type": "text"
      },
      "source": [
        "<a href=\"https://colab.research.google.com/github/mahayel374-pixel/python-class-program/blob/main/lab5.ipynb\" target=\"_parent\"><img src=\"https://colab.research.google.com/assets/colab-badge.svg\" alt=\"Open In Colab\"/></a>"
      ]
    },
    {
      "cell_type": "code",
      "execution_count": null,
      "metadata": {
        "colab": {
          "base_uri": "https://localhost:8080/"
        },
        "id": "DoHyCwNgmTKi",
        "outputId": "e3b84f04-6b7e-4c87-c99b-a371f2bf6899"
      },
      "outputs": [
        {
          "output_type": "stream",
          "name": "stdout",
          "text": [
            "Lenght; 4\n",
            "Max: 4\n",
            "Min: 1\n",
            "sun: 10\n",
            "sorted: [1, 2, 3, 4]\n"
          ]
        }
      ],
      "source": [
        "number = [1,2,3,4]\n",
        "print(\"Lenght;\",len(number))\n",
        "print(\"Max:\",max(number))\n",
        "print(\"Min:\",min(number))\n",
        "print(\"sun:\",sum(number))\n",
        "print(\"sorted:\",sorted(number))\n"
      ]
    },
    {
      "cell_type": "code",
      "source": [
        "print(dir(__builtins__))"
      ],
      "metadata": {
        "colab": {
          "base_uri": "https://localhost:8080/"
        },
        "id": "0IcpCoi5pCUx",
        "outputId": "3803fb21-24e4-477e-8b04-c50fb31d48d1"
      },
      "execution_count": null,
      "outputs": [
        {
          "output_type": "stream",
          "name": "stdout",
          "text": [
            "['ArithmeticError', 'AssertionError', 'AttributeError', 'BaseException', 'BaseExceptionGroup', 'BlockingIOError', 'BrokenPipeError', 'BufferError', 'BytesWarning', 'ChildProcessError', 'ConnectionAbortedError', 'ConnectionError', 'ConnectionRefusedError', 'ConnectionResetError', 'DeprecationWarning', 'EOFError', 'Ellipsis', 'EncodingWarning', 'EnvironmentError', 'Exception', 'ExceptionGroup', 'False', 'FileExistsError', 'FileNotFoundError', 'FloatingPointError', 'FutureWarning', 'GeneratorExit', 'IOError', 'ImportError', 'ImportWarning', 'IndentationError', 'IndexError', 'InterruptedError', 'IsADirectoryError', 'KeyError', 'KeyboardInterrupt', 'LookupError', 'MemoryError', 'ModuleNotFoundError', 'NameError', 'None', 'NotADirectoryError', 'NotImplemented', 'NotImplementedError', 'OSError', 'OverflowError', 'PendingDeprecationWarning', 'PermissionError', 'ProcessLookupError', 'RecursionError', 'ReferenceError', 'ResourceWarning', 'RuntimeError', 'RuntimeWarning', 'StopAsyncIteration', 'StopIteration', 'SyntaxError', 'SyntaxWarning', 'SystemError', 'SystemExit', 'TabError', 'TimeoutError', 'True', 'TypeError', 'UnboundLocalError', 'UnicodeDecodeError', 'UnicodeEncodeError', 'UnicodeError', 'UnicodeTranslateError', 'UnicodeWarning', 'UserWarning', 'ValueError', 'Warning', 'ZeroDivisionError', '__IPYTHON__', '__build_class__', '__debug__', '__doc__', '__import__', '__loader__', '__name__', '__package__', '__spec__', 'abs', 'aiter', 'all', 'anext', 'any', 'ascii', 'bin', 'bool', 'breakpoint', 'bytearray', 'bytes', 'callable', 'chr', 'classmethod', 'compile', 'complex', 'copyright', 'credits', 'delattr', 'dict', 'dir', 'display', 'divmod', 'enumerate', 'eval', 'exec', 'execfile', 'filter', 'float', 'format', 'frozenset', 'get_ipython', 'getattr', 'globals', 'hasattr', 'hash', 'help', 'hex', 'id', 'input', 'int', 'isinstance', 'issubclass', 'iter', 'len', 'license', 'list', 'locals', 'map', 'max', 'memoryview', 'min', 'next', 'object', 'oct', 'open', 'ord', 'pow', 'print', 'property', 'range', 'repr', 'reversed', 'round', 'runfile', 'set', 'setattr', 'slice', 'sorted', 'staticmethod', 'str', 'sum', 'super', 'tuple', 'type', 'vars', 'zip']\n"
          ]
        }
      ]
    },
    {
      "cell_type": "code",
      "source": [
        "a=10\n",
        "b=45\n",
        "c =  lambda x,y:a+b\n",
        "print('sum=',c(a,b))"
      ],
      "metadata": {
        "colab": {
          "base_uri": "https://localhost:8080/"
        },
        "id": "xtmfpYkBpRmH",
        "outputId": "442d9e6f-fd93-41b0-e9a9-38ce60590302"
      },
      "execution_count": null,
      "outputs": [
        {
          "output_type": "stream",
          "name": "stdout",
          "text": [
            "sum= 55\n"
          ]
        }
      ]
    },
    {
      "cell_type": "code",
      "source": [
        "def factorial(n):\n",
        "  if n == 1:\n",
        "    return 1\n",
        "  else:\n",
        "      return n* factorial(n-1)\n",
        "print(factorial(5))"
      ],
      "metadata": {
        "colab": {
          "base_uri": "https://localhost:8080/"
        },
        "id": "chaLaJiGqleL",
        "outputId": "546c09ba-7ab1-4259-c912-51fa8096e977"
      },
      "execution_count": null,
      "outputs": [
        {
          "output_type": "stream",
          "name": "stdout",
          "text": [
            "120\n"
          ]
        }
      ]
    },
    {
      "cell_type": "code",
      "source": [
        "def even(n):\n",
        "  if(n%2)==0:\n",
        "    return 'even',n\n",
        "  else:\n",
        "    return 'odd',n\n",
        "n = [1,2,3,4,5,6,7,8,9,10]\n",
        "sol = list(map(even,n))\n",
        "print(sol)"
      ],
      "metadata": {
        "colab": {
          "base_uri": "https://localhost:8080/"
        },
        "id": "FI-6RddTsHpL",
        "outputId": "46d94510-44f2-4954-f2c5-3cdc5521e0bc"
      },
      "execution_count": null,
      "outputs": [
        {
          "output_type": "stream",
          "name": "stdout",
          "text": [
            "[('odd', 1), ('even', 2), ('odd', 3), ('even', 4), ('odd', 5), ('even', 6), ('odd', 7), ('even', 8), ('odd', 9), ('even', 10)]\n"
          ]
        }
      ]
    },
    {
      "cell_type": "code",
      "source": [
        "def even(n):\n",
        "  if(n%2)==0:\n",
        "    return 'even',n\n",
        "  else:\n",
        "    return 'odd',n\n",
        "n = [1,2,3,4,5,6,7,8,9,10]\n",
        "print(n)"
      ],
      "metadata": {
        "colab": {
          "base_uri": "https://localhost:8080/"
        },
        "id": "5of7m1Nxss8Z",
        "outputId": "ddd9f266-5626-418f-f0f6-3d453482689d"
      },
      "execution_count": null,
      "outputs": [
        {
          "output_type": "stream",
          "name": "stdout",
          "text": [
            "[1, 2, 3, 4, 5, 6, 7, 8, 9, 10]\n"
          ]
        }
      ]
    },
    {
      "cell_type": "code",
      "source": [
        "def is_even(n):\n",
        "  return n%2==0\n",
        "number = [1,2,3,4,5,6,7,8,9,10]\n",
        "sol = list(filter(is_even,number))\n",
        "print(sol)"
      ],
      "metadata": {
        "colab": {
          "base_uri": "https://localhost:8080/"
        },
        "id": "XG-Ps8KUtCvc",
        "outputId": "f282cc8c-9c0f-43a8-fb22-87e1d9933b8d"
      },
      "execution_count": null,
      "outputs": [
        {
          "output_type": "stream",
          "name": "stdout",
          "text": [
            "[2, 4, 6, 8, 10]\n"
          ]
        }
      ]
    },
    {
      "cell_type": "code",
      "source": [
        "square = lambda x:x**2\n",
        "c=lambda x,y:a+b\n",
        "check_even_odd =lambda x:\"even\" if x%2==0 else \"odd\"\n",
        "print(check_even_odd(5))\n",
        "print(c(3,4))\n",
        "print(square(4))"
      ],
      "metadata": {
        "colab": {
          "base_uri": "https://localhost:8080/"
        },
        "id": "ckc6e7Vku-6Q",
        "outputId": "34ab7f34-d5cd-4de3-932d-c5c2a22c64dc"
      },
      "execution_count": null,
      "outputs": [
        {
          "output_type": "stream",
          "name": "stdout",
          "text": [
            "odd\n",
            "55\n",
            "16\n"
          ]
        }
      ]
    },
    {
      "cell_type": "code",
      "source": [
        "n = [1,2,3,4]\n",
        "square = list(map(lambda x:x**2,n))\n",
        "print(square)"
      ],
      "metadata": {
        "colab": {
          "base_uri": "https://localhost:8080/"
        },
        "id": "9_41jIIOwA7O",
        "outputId": "d92276e5-d2cf-4a1a-b1e7-329b175e82d6"
      },
      "execution_count": null,
      "outputs": [
        {
          "output_type": "stream",
          "name": "stdout",
          "text": [
            "[1, 4, 9, 16]\n"
          ]
        }
      ]
    },
    {
      "cell_type": "code",
      "source": [
        "from functools import reduce\n",
        "sol = reduce(lambda x,y:x+y,[1,2,3,4])\n",
        "print(sol)"
      ],
      "metadata": {
        "colab": {
          "base_uri": "https://localhost:8080/"
        },
        "id": "Pc0AhakXt7ev",
        "outputId": "d6eeee2e-2b62-42dc-8597-8f4ee8d77dd3"
      },
      "execution_count": null,
      "outputs": [
        {
          "output_type": "stream",
          "name": "stdout",
          "text": [
            "10\n"
          ]
        }
      ]
    },
    {
      "cell_type": "code",
      "source": [
        "from functools import reduce\n",
        "n = [1,2,3,4,5,6]\n",
        "mul = reduce(lambda x,y:x*y,n)\n",
        "print(mul)"
      ],
      "metadata": {
        "colab": {
          "base_uri": "https://localhost:8080/"
        },
        "id": "vfgc7nONwK7z",
        "outputId": "99378232-8390-44f1-8f38-c66a27611eaa"
      },
      "execution_count": null,
      "outputs": [
        {
          "output_type": "stream",
          "name": "stdout",
          "text": [
            "720\n"
          ]
        }
      ]
    },
    {
      "cell_type": "code",
      "source": [
        "from functools import reduce\n",
        "n = [1,2,3,4,5,6,7,8,9,10]\n",
        "sum = reduce(lambda x,y:x+y,n)\n",
        "print(sum)"
      ],
      "metadata": {
        "colab": {
          "base_uri": "https://localhost:8080/"
        },
        "id": "w_eMoLCmx6Wr",
        "outputId": "d1950a28-71e2-491b-ca8b-f4ff62a40032"
      },
      "execution_count": null,
      "outputs": [
        {
          "output_type": "stream",
          "name": "stdout",
          "text": [
            "55\n"
          ]
        }
      ]
    },
    {
      "cell_type": "code",
      "source": [
        "def sum_divisers(n):\n",
        "  divi_sum = 0\n",
        "  for i in range(1,n):\n",
        "    if n%i==0:\n",
        "      divi_sum = divi_sum+i\n",
        "  return divi_sum\n",
        "num1 = int(input())\n",
        "num2 = int(input())\n",
        "if sum_divisers(num1)==num2 and sum_divisers(num2)==num1:\n",
        "  print(\"amicable\")\n",
        "else:\n",
        "  print(\"not\")"
      ],
      "metadata": {
        "colab": {
          "base_uri": "https://localhost:8080/"
        },
        "id": "txmNSti70TYr",
        "outputId": "ba173633-82cd-4c49-d74a-7af0dd05f671"
      },
      "execution_count": null,
      "outputs": [
        {
          "output_type": "stream",
          "name": "stdout",
          "text": [
            "220\n",
            "284\n",
            "amicable\n"
          ]
        }
      ]
    },
    {
      "cell_type": "code",
      "source": [
        "def factorial(n):\n",
        "  if n==1:\n",
        "    return 1\n",
        "  else:\n",
        "    return n*factorial(n-1)\n",
        "def sum_series(num):\n",
        "  sum_seri=0\n",
        "  for i in range(1,num+1):\n",
        "    sum_seri = sum_seri+((i**i)/factorial(i))\n",
        "  return sum_seri\n",
        "n = int(input())\n",
        "seri_sum = sum_series(n)\n",
        "print(seri_sum)"
      ],
      "metadata": {
        "colab": {
          "base_uri": "https://localhost:8080/"
        },
        "id": "Lo9KPnSA16VB",
        "outputId": "8c16472a-6ff9-42b7-c3c3-c6e226958115"
      },
      "execution_count": null,
      "outputs": [
        {
          "output_type": "stream",
          "name": "stdout",
          "text": [
            "3\n",
            "7.5\n"
          ]
        }
      ]
    },
    {
      "cell_type": "code",
      "source": [
        "def pattern(char = '?',r=3,c=4):\n",
        "  for i in range(r):\n",
        "    print(char*c)#char should repeat c time\n",
        "pattern(char='#')"
      ],
      "metadata": {
        "colab": {
          "base_uri": "https://localhost:8080/"
        },
        "id": "ZZeXhLIn6Wzl",
        "outputId": "24210ef6-2f63-4b97-d5a9-9c9141e234f2"
      },
      "execution_count": null,
      "outputs": [
        {
          "output_type": "stream",
          "name": "stdout",
          "text": [
            "####\n",
            "####\n",
            "####\n"
          ]
        }
      ]
    },
    {
      "cell_type": "code",
      "source": [
        "try:\n",
        "  a = int(input(\"Frist Number:\"))\n",
        "  b=int(input(\"Second number:\"))\n",
        "  result=a/b\n",
        "  print(\"Result=\",result)\n",
        "except (ZeroDivisionError):#Exception\n",
        "  print(\"error occured\")\n",
        "else:\n",
        "  print(\"Successful division\")\n"
      ],
      "metadata": {
        "colab": {
          "base_uri": "https://localhost:8080/"
        },
        "id": "jadEXQZeCjn9",
        "outputId": "51dc520d-8421-4d89-ed11-208bb830ee5b"
      },
      "execution_count": null,
      "outputs": [
        {
          "output_type": "stream",
          "name": "stdout",
          "text": [
            "Frist Number:67\n",
            "Second number:99\n",
            "Result= 0.6767676767676768\n",
            "Successful division\n"
          ]
        }
      ]
    },
    {
      "cell_type": "code",
      "source": [
        "try:\n",
        "  print(x)\n",
        "except Exception:\n",
        "  print(\"an Exception\")"
      ],
      "metadata": {
        "colab": {
          "base_uri": "https://localhost:8080/"
        },
        "id": "XRrFLWFjESMw",
        "outputId": "12f2963d-fcf9-4068-f84f-3b55e33ab500"
      },
      "execution_count": null,
      "outputs": [
        {
          "output_type": "stream",
          "name": "stdout",
          "text": [
            "an Exception\n"
          ]
        }
      ]
    },
    {
      "cell_type": "code",
      "source": [
        "%%writefile message.py\n",
        "def GetInt(msg):\n",
        "  try:\n",
        "    k = int(input(msg))\n",
        "    return k\n",
        "  except ValueError as e:\n",
        "    print(\"Input Integer Only...\")"
      ],
      "metadata": {
        "colab": {
          "base_uri": "https://localhost:8080/"
        },
        "id": "lzEMikoCG7zG",
        "outputId": "c36610f4-ad3b-4ecb-ca6a-cbe182a70d30"
      },
      "execution_count": null,
      "outputs": [
        {
          "output_type": "stream",
          "name": "stdout",
          "text": [
            "Overwriting message.py\n"
          ]
        }
      ]
    },
    {
      "cell_type": "code",
      "source": [
        "import message\n",
        "k = message.GetInt(\"Enter First Number:\")\n",
        "print(\"First number is:\",k)\n",
        "\n",
        "j=message.GetInt(\"Enter Second number:\")\n",
        "print(\"Secound number \",j)"
      ],
      "metadata": {
        "colab": {
          "base_uri": "https://localhost:8080/"
        },
        "id": "hSdyAYdsHBjq",
        "outputId": "81c0c8a7-c414-4f24-b199-eb54591a2c66"
      },
      "execution_count": null,
      "outputs": [
        {
          "output_type": "stream",
          "name": "stdout",
          "text": [
            "Enter First Number:5.0\n",
            "Input Integer Only...\n",
            "First number is: None\n",
            "Enter Second number:4.9\n",
            "Input Integer Only...\n",
            "Secound number  None\n"
          ]
        }
      ]
    },
    {
      "cell_type": "code",
      "source": [
        "try:\n",
        "  num1=int(input(\"Enter first integer:\"))\n",
        "  num2=int(input(\"Enter second integer:\"))\n",
        "  result = num1+num2\n",
        "  print(\"Sum of the two integers is:\",result)\n",
        "except ValueError:\n",
        "  print(\"Invalid input! Please enter integers only.\")"
      ],
      "metadata": {
        "colab": {
          "base_uri": "https://localhost:8080/"
        },
        "id": "FXmfVXNtIvIF",
        "outputId": "92e52fcf-1e08-41ba-fa01-e4bab18c36e0"
      },
      "execution_count": null,
      "outputs": [
        {
          "output_type": "stream",
          "name": "stdout",
          "text": [
            "Enter first integer:6\n",
            "Enter second integer:8.9\n",
            "Invalid input! Please enter integers only.\n"
          ]
        }
      ]
    },
    {
      "cell_type": "code",
      "source": [
        "def add_number(*args):\n",
        "  total = sum(args)\n",
        "  print(\"sum:\",total)\n",
        "add_number(2,3)\n",
        "add_number(2,3,4,5)\n",
        "\n"
      ],
      "metadata": {
        "colab": {
          "base_uri": "https://localhost:8080/",
          "height": 332
        },
        "id": "_fBqz5V3KJab",
        "outputId": "a974f9dc-ddcf-410f-8e7a-69e2a5b9d385"
      },
      "execution_count": null,
      "outputs": [
        {
          "output_type": "error",
          "ename": "TypeError",
          "evalue": "'int' object is not callable",
          "traceback": [
            "\u001b[0;31m---------------------------------------------------------------------------\u001b[0m",
            "\u001b[0;31mTypeError\u001b[0m                                 Traceback (most recent call last)",
            "\u001b[0;32m/tmp/ipython-input-1176900738.py\u001b[0m in \u001b[0;36m<cell line: 0>\u001b[0;34m()\u001b[0m\n\u001b[1;32m      2\u001b[0m   \u001b[0mtotal\u001b[0m \u001b[0;34m=\u001b[0m \u001b[0msum\u001b[0m\u001b[0;34m(\u001b[0m\u001b[0margs\u001b[0m\u001b[0;34m)\u001b[0m\u001b[0;34m\u001b[0m\u001b[0;34m\u001b[0m\u001b[0m\n\u001b[1;32m      3\u001b[0m   \u001b[0mprint\u001b[0m\u001b[0;34m(\u001b[0m\u001b[0;34m\"sum:\"\u001b[0m\u001b[0;34m,\u001b[0m\u001b[0mtotal\u001b[0m\u001b[0;34m)\u001b[0m\u001b[0;34m\u001b[0m\u001b[0;34m\u001b[0m\u001b[0m\n\u001b[0;32m----> 4\u001b[0;31m \u001b[0madd_number\u001b[0m\u001b[0;34m(\u001b[0m\u001b[0;36m2\u001b[0m\u001b[0;34m,\u001b[0m\u001b[0;36m3\u001b[0m\u001b[0;34m)\u001b[0m\u001b[0;34m\u001b[0m\u001b[0;34m\u001b[0m\u001b[0m\n\u001b[0m\u001b[1;32m      5\u001b[0m \u001b[0madd_number\u001b[0m\u001b[0;34m(\u001b[0m\u001b[0;36m2\u001b[0m\u001b[0;34m,\u001b[0m\u001b[0;36m3\u001b[0m\u001b[0;34m,\u001b[0m\u001b[0;36m4\u001b[0m\u001b[0;34m,\u001b[0m\u001b[0;36m5\u001b[0m\u001b[0;34m)\u001b[0m\u001b[0;34m\u001b[0m\u001b[0;34m\u001b[0m\u001b[0m\n\u001b[1;32m      6\u001b[0m \u001b[0;34m\u001b[0m\u001b[0m\n",
            "\u001b[0;32m/tmp/ipython-input-1176900738.py\u001b[0m in \u001b[0;36madd_number\u001b[0;34m(*args)\u001b[0m\n\u001b[1;32m      1\u001b[0m \u001b[0;32mdef\u001b[0m \u001b[0madd_number\u001b[0m\u001b[0;34m(\u001b[0m\u001b[0;34m*\u001b[0m\u001b[0margs\u001b[0m\u001b[0;34m)\u001b[0m\u001b[0;34m:\u001b[0m\u001b[0;34m\u001b[0m\u001b[0;34m\u001b[0m\u001b[0m\n\u001b[0;32m----> 2\u001b[0;31m   \u001b[0mtotal\u001b[0m \u001b[0;34m=\u001b[0m \u001b[0msum\u001b[0m\u001b[0;34m(\u001b[0m\u001b[0margs\u001b[0m\u001b[0;34m)\u001b[0m\u001b[0;34m\u001b[0m\u001b[0;34m\u001b[0m\u001b[0m\n\u001b[0m\u001b[1;32m      3\u001b[0m   \u001b[0mprint\u001b[0m\u001b[0;34m(\u001b[0m\u001b[0;34m\"sum:\"\u001b[0m\u001b[0;34m,\u001b[0m\u001b[0mtotal\u001b[0m\u001b[0;34m)\u001b[0m\u001b[0;34m\u001b[0m\u001b[0;34m\u001b[0m\u001b[0m\n\u001b[1;32m      4\u001b[0m \u001b[0madd_number\u001b[0m\u001b[0;34m(\u001b[0m\u001b[0;36m2\u001b[0m\u001b[0;34m,\u001b[0m\u001b[0;36m3\u001b[0m\u001b[0;34m)\u001b[0m\u001b[0;34m\u001b[0m\u001b[0;34m\u001b[0m\u001b[0m\n\u001b[1;32m      5\u001b[0m \u001b[0madd_number\u001b[0m\u001b[0;34m(\u001b[0m\u001b[0;36m2\u001b[0m\u001b[0;34m,\u001b[0m\u001b[0;36m3\u001b[0m\u001b[0;34m,\u001b[0m\u001b[0;36m4\u001b[0m\u001b[0;34m,\u001b[0m\u001b[0;36m5\u001b[0m\u001b[0;34m)\u001b[0m\u001b[0;34m\u001b[0m\u001b[0;34m\u001b[0m\u001b[0m\n",
            "\u001b[0;31mTypeError\u001b[0m: 'int' object is not callable"
          ]
        }
      ]
    }
  ]
}